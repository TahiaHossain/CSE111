{
  "nbformat": 4,
  "nbformat_minor": 0,
  "metadata": {
    "colab": {
      "name": "Assignment 05_21301164_TahiaHossain.ipynb",
      "provenance": [],
      "collapsed_sections": []
    },
    "kernelspec": {
      "name": "python3",
      "display_name": "Python 3"
    },
    "language_info": {
      "name": "python"
    }
  },
  "cells": [
    {
      "cell_type": "code",
      "metadata": {
        "id": "R353B6nfVtXK"
      },
      "source": [
        "# CSE 111 : Lab Assignment 5\n",
        "# Name    : Tahia Hossain\n",
        "# ID      : 21301164\n",
        "# Section : 08"
      ],
      "execution_count": null,
      "outputs": []
    },
    {
      "cell_type": "code",
      "metadata": {
        "id": "_0cuvxI5WorZ",
        "colab": {
          "base_uri": "https://localhost:8080/"
        },
        "outputId": "4918fe10-ecb9-4fb2-8703-209faed04e95"
      },
      "source": [
        "# TASK 1\n",
        "\n",
        "class Marks :\n",
        "  def __init__(self,mark) :\n",
        "    self.mark = mark\n",
        "\n",
        "  def __add__(self,other):\n",
        "    var = Marks(self.mark + other.mark)\n",
        "    return var\n",
        "\n",
        "\n",
        "#Write your code here\n",
        "#Do not change the following lines of code\n",
        "Q1 = Marks(int(input(\"Quiz 1 (out of 10): \")))\n",
        "Q2 = Marks(int(input(\"Quiz 2 (out of 10): \")))\n",
        "Lab = Marks(int(input(\"Lab (out of 30): \")))\n",
        "Mid = Marks(int(input(\"Mid (out of 20): \")))\n",
        "Final = Marks(int(input(\"Final (out of 30): \")))\n",
        "total = Q1 + Q2 + Lab + Mid + Final\n",
        "print(\"Total marks: {}\".format(total.mark))"
      ],
      "execution_count": null,
      "outputs": [
        {
          "output_type": "stream",
          "name": "stdout",
          "text": [
            "Quiz 1 (out of 10): 10\n",
            "Quiz 2 (out of 10): 10\n",
            "Lab (out of 30): 30\n",
            "Mid (out of 20): 20\n",
            "Final (out of 30): 30\n",
            "Total marks: 100\n"
          ]
        }
      ]
    },
    {
      "cell_type": "code",
      "metadata": {
        "colab": {
          "base_uri": "https://localhost:8080/"
        },
        "id": "oTNnhXX55JYu",
        "outputId": "278adb01-2330-450e-fe56-0481781baf28"
      },
      "source": [
        "# TASK 2\n",
        "\n",
        "class Teacher :\n",
        "  def __init__(self,name,dept):\n",
        "    self.__name = name\n",
        "    self.__dept = dept\n",
        "    self.__courses = []\n",
        "\n",
        "  def addCourse(self,course):\n",
        "    self.__courses.append(course.name)\n",
        "\n",
        "  def printDetail(self):\n",
        "    print(\"============================================\")\n",
        "    print(\"Name:\", self.__name)\n",
        "    print(\"Department:\", self.__dept)\n",
        "    print(\"List of couses\")\n",
        "    print(\"============================================\")\n",
        "    for course in self.__courses :\n",
        "      print(course)\n",
        "    print(\"============================================\")\n",
        "\n",
        "class Course :\n",
        "  def __init__(self,name):\n",
        "    self.name = name\n",
        "\n",
        "\n",
        "# Write your code here for subtasks 1-4\n",
        "t1 = Teacher(\"Saad Abdullah\", \"CSE\")\n",
        "t2 = Teacher(\"Mumit Khan\", \"CSE\")\n",
        "t3 = Teacher(\"Sadia Kazi\", \"CSE\")\n",
        "c1 = Course(\"CSE 110 Programming Language I\")\n",
        "c2 = Course(\"CSE 111 Programming Language-II\")\n",
        "c3 = Course(\"CSE 220 Data Structures\")\n",
        "c4 = Course(\"CSE 221 Algorithms\")\n",
        "c5 = Course(\"CCSE 230 Discrete Mathematics\")\n",
        "c6 = Course(\"CSE 310 Object Oriented Programming\")\n",
        "c7 = Course(\"CSE 320 Data Communications\")\n",
        "c8 = Course(\"CSE 340 Computer Architecture\")\n",
        "t1.addCourse(c1)\n",
        "t1.addCourse(c2)\n",
        "t2.addCourse(c3)\n",
        "t2.addCourse(c4)\n",
        "t2.addCourse(c5)\n",
        "t3.addCourse(c6)\n",
        "t3.addCourse(c7)\n",
        "t3.addCourse(c8)\n",
        "t1.printDetail()\n",
        "t2.printDetail()\n",
        "t3.printDetail()"
      ],
      "execution_count": null,
      "outputs": [
        {
          "output_type": "stream",
          "name": "stdout",
          "text": [
            "============================================\n",
            "Name: Saad Abdullah\n",
            "Department: CSE\n",
            "List of couses\n",
            "============================================\n",
            "CSE 110 Programming Language I\n",
            "CSE 111 Programming Language-II\n",
            "============================================\n",
            "============================================\n",
            "Name: Mumit Khan\n",
            "Department: CSE\n",
            "List of couses\n",
            "============================================\n",
            "CSE 220 Data Structures\n",
            "CSE 221 Algorithms\n",
            "CCSE 230 Discrete Mathematics\n",
            "============================================\n",
            "============================================\n",
            "Name: Sadia Kazi\n",
            "Department: CSE\n",
            "List of couses\n",
            "============================================\n",
            "CSE 310 Object Oriented Programming\n",
            "CSE 320 Data Communications\n",
            "CSE 340 Computer Architecture\n",
            "============================================\n"
          ]
        }
      ]
    },
    {
      "cell_type": "code",
      "metadata": {
        "id": "uO9rawEX8XIO",
        "colab": {
          "base_uri": "https://localhost:8080/"
        },
        "outputId": "30077cb0-961e-485e-8792-06dd5c97e0da"
      },
      "source": [
        "# TASK 3\n",
        "\n",
        "class Team :\n",
        "  def __init__(self,name=\"None\"):\n",
        "    self.__name = name\n",
        "    self.__player = []\n",
        "\n",
        "  def addPlayer(self,n_player):\n",
        "    self.__player.append(n_player.name)\n",
        "\n",
        "  def setName(self,team):\n",
        "    self.__name = team\n",
        "\n",
        "  def printDetail(self):\n",
        "    print(\"=========================\")\n",
        "    print(\"Team:\", self.__name)\n",
        "    print(\"List of Players:\")\n",
        "    print(self.__player)\n",
        "    print(\"=========================\")\n",
        "\n",
        "class Player :\n",
        "  def __init__(self,name):\n",
        "    self.name = name\n",
        "  \n",
        "\n",
        "# Write your code here for subtasks 1-4\n",
        "b = Team()\n",
        "b.setName('Bangladesh')\n",
        "mashrafi = Player(\"Mashrafi\")\n",
        "b.addPlayer(mashrafi)\n",
        "tamim = Player(\"Tamim\")\n",
        "b.addPlayer(tamim)\n",
        "b.printDetail()\n",
        "a = Team(\"Australia\")\n",
        "ponting = Player(\"Ponting\")\n",
        "a.addPlayer(ponting)\n",
        "lee = Player(\"Lee\")\n",
        "a.addPlayer(lee)\n",
        "a.printDetail()"
      ],
      "execution_count": null,
      "outputs": [
        {
          "output_type": "stream",
          "name": "stdout",
          "text": [
            "=========================\n",
            "Team: Bangladesh\n",
            "List of Players:\n",
            "['Mashrafi', 'Tamim']\n",
            "=========================\n",
            "=========================\n",
            "Team: Australia\n",
            "List of Players:\n",
            "['Ponting', 'Lee']\n",
            "=========================\n"
          ]
        }
      ]
    },
    {
      "cell_type": "code",
      "metadata": {
        "colab": {
          "base_uri": "https://localhost:8080/"
        },
        "id": "pnobu1ZSEj6y",
        "outputId": "cd70fd8d-b9e5-4364-d0ef-dadb8a3cdbbc"
      },
      "source": [
        "# TASK 4\n",
        "\n",
        "class Color :\n",
        "  def __init__(self,color):\n",
        "    self.clr = color \n",
        "\n",
        "  def __add__(self,other):\n",
        "    if (self.clr == \"red\" and other.clr == \"yellow\") or (self.clr == \"yellow\" and other.clr == \"red\"):\n",
        "      color = \"Orange\"\n",
        "      clr1 = Color(color)\n",
        "      return clr1\n",
        "    elif (self.clr == \"red\" and other.clr == \"blue\") or (self.clr == \"blue\" and other.clr == \"red\"):\n",
        "      color = \"Violet\"\n",
        "      clr2 = Color(color)\n",
        "      return clr2\n",
        "    elif (self.clr == \"yellow\" and other.clr == \"blue\") or (self.clr == \"blue\" and other.clr == \"yellow\"):\n",
        "      color = \"Green\"\n",
        "      clr3 = Color(color)\n",
        "      return clr3\n",
        "\n",
        "\n",
        "#Write your code here\n",
        "#Do not change the following lines of code\n",
        "C1 = Color(input(\"First Color: \").lower())\n",
        "C2 = Color(input(\"Second Color: \").lower())\n",
        "C3 = C1 + C2\n",
        "print(\"Color formed:\", C3.clr)"
      ],
      "execution_count": null,
      "outputs": [
        {
          "output_type": "stream",
          "name": "stdout",
          "text": [
            "First Color: yellow\n",
            "Second Color: BLUE\n",
            "Color formed: Green\n"
          ]
        }
      ]
    },
    {
      "cell_type": "code",
      "metadata": {
        "id": "HLnpBZIrLB1Y",
        "colab": {
          "base_uri": "https://localhost:8080/"
        },
        "outputId": "993c3c2f-cf9c-4408-d3cb-a7205a5a49be"
      },
      "source": [
        "# TASK 5\n",
        "\n",
        "import math\n",
        "\n",
        "class Circle :\n",
        "  def __init__(self,r):\n",
        "    self.__radius = r\n",
        "\n",
        "  def getRadius(self):\n",
        "    radius = self.__radius\n",
        "    return radius\n",
        "  \n",
        "  def setRadius(self):\n",
        "    pass\n",
        "\n",
        "  def area(self):\n",
        "    area = math.pi * self.__radius * self.__radius\n",
        "    return area\n",
        "\n",
        "  def __add__(self,other):\n",
        "    new_r = Circle(self.__radius + other.__radius)\n",
        "    return new_r\n",
        "\n",
        "\n",
        "# Write your code here for subtasks 1-5\n",
        "c1 = Circle(4)\n",
        "print(\"First circle radius:\" , c1.getRadius())\n",
        "print(\"First circle area:\" ,c1.area())\n",
        "\n",
        "c2 = Circle(5)\n",
        "print(\"Second circle radius:\" ,c2.getRadius())\n",
        "print(\"Second circle area:\" ,c2.area())\n",
        "\n",
        "c3 = c1 + c2\n",
        "print(\"Third circle radius:\" ,c3.getRadius())\n",
        "print(\"Third circle area:\" ,c3.area())"
      ],
      "execution_count": null,
      "outputs": [
        {
          "output_type": "stream",
          "name": "stdout",
          "text": [
            "First circle radius: 4\n",
            "First circle area: 50.26548245743669\n",
            "Second circle radius: 5\n",
            "Second circle area: 78.53981633974483\n",
            "Third circle radius: 9\n",
            "Third circle area: 254.46900494077323\n"
          ]
        }
      ]
    },
    {
      "cell_type": "code",
      "metadata": {
        "id": "qUb3b9qeLHmn",
        "colab": {
          "base_uri": "https://localhost:8080/"
        },
        "outputId": "b2e5fefd-0e68-4c98-92fc-dce5863fd24d"
      },
      "source": [
        "# TASK 6\n",
        "\n",
        "class Triangle :\n",
        "  def __init__(self,b,h):\n",
        "    self.__base = b\n",
        "    self.__height = h\n",
        "\n",
        "  def getBase(self):\n",
        "    base = self.__base\n",
        "    return base\n",
        "  \n",
        "  def getHeight(self):\n",
        "    height = self.__height\n",
        "    return height\n",
        "  \n",
        "  def setBase(self):\n",
        "    pass \n",
        "  \n",
        "  def setHeight(self):\n",
        "    pass\n",
        "\n",
        "  def area(self):\n",
        "    area = 0.5 * self.__base * self.__height\n",
        "    return area\n",
        "\n",
        "  def __sub__(self,other):\n",
        "    new = Triangle(self.__base - other.__base, self.__height - other.__height)\n",
        "    return new\n",
        "\n",
        "\n",
        "# Write your code here for subtasks 1-5\n",
        "t1 = Triangle(10, 5)\n",
        "print(\"First Triangle Base:\" , t1.getBase())\n",
        "print(\"First Triangle Height:\" , t1.getHeight())\n",
        "print(\"First Triangle area:\" ,t1.area())\n",
        "\n",
        "t2 = Triangle(5, 3)\n",
        "print(\"Second Triangle Base:\" , t2.getBase())\n",
        "print(\"Second Triangle Height:\" , t2.getHeight())\n",
        "print(\"Second Triangle area:\" ,t2.area())\n",
        "\n",
        "t3 = t1 - t2\n",
        "print(\"Third Triangle Base:\" , t3.getBase())\n",
        "print(\"Third Triangle Height:\" , t3.getHeight())\n",
        "print(\"Third Triangle area:\" ,t3.area())"
      ],
      "execution_count": null,
      "outputs": [
        {
          "output_type": "stream",
          "name": "stdout",
          "text": [
            "First Triangle Base: 10\n",
            "First Triangle Height: 5\n",
            "First Triangle area: 25.0\n",
            "Second Triangle Base: 5\n",
            "Second Triangle Height: 3\n",
            "Second Triangle area: 7.5\n",
            "Third Triangle Base: 5\n",
            "Third Triangle Height: 2\n",
            "Third Triangle area: 5.0\n"
          ]
        }
      ]
    },
    {
      "cell_type": "code",
      "metadata": {
        "id": "u6Rys6y8LPtD",
        "colab": {
          "base_uri": "https://localhost:8080/"
        },
        "outputId": "c2c4f095-56fd-4ced-82c4-eabcc87f6f06"
      },
      "source": [
        "# TASK 7\n",
        "\n",
        "class Dolls :\n",
        "  def __init__(self,name,price):\n",
        "    self.name = name\n",
        "    self.price = price\n",
        "    self.flag = 0\n",
        "\n",
        "  def __gt__(self,other):\n",
        "    if self.price > other.price :\n",
        "      return True\n",
        "    else :\n",
        "      return False\n",
        "\n",
        "  def __add__(self,other):\n",
        "    obj = Dolls(self.name + \" \" + other.name, self.price + other.price)\n",
        "    obj.flag = 1\n",
        "    return obj \n",
        "    \n",
        "  def detail(self):\n",
        "    if self.flag == 0 :\n",
        "      result = \"Doll: \"\n",
        "    else :\n",
        "      result = \"Dolls: \"\n",
        "    return (result + self.name + \"\\n\" + \"Total Price: \" + str(self.price) + \" taka\")\n",
        "\n",
        "\n",
        "# Write your code here\n",
        "obj_1 = Dolls(\"Tweety\", 2500)\n",
        "print(obj_1.detail())\n",
        "if obj_1 > obj_1:\n",
        "  print(\"Congratulations! You get the Tweety as a gift!\")\n",
        "else:\n",
        "  print(\"Thank you!\")\n",
        "print(\"=========================\")\n",
        "obj_2 = Dolls(\"Daffy Duck\", 1800)\n",
        "print(obj_2.detail())\n",
        "if obj_2 > obj_1:\n",
        "  print(\"Congratulations! You get the Tweety as a gift!\")\n",
        "else:\n",
        "  print(\"Thank you!\")\n",
        "print(\"=========================\")\n",
        "obj_3 = Dolls(\"Bugs Bunny\", 3000)\n",
        "print(obj_3.detail())\n",
        "if obj_3 > obj_1:\n",
        "  print(\"Congratulations! You get the Tweety as a gift!\")\n",
        "else:\n",
        "  print(\"Thank you!\")\n",
        "print(\"=========================\")\n",
        "obj_4 = Dolls(\"Porky Pig\", 1500)\n",
        "print(obj_4.detail())\n",
        "if obj_4 > obj_1:\n",
        "  print(\"Congratulations! You get the Tweety as a gift!\")\n",
        "else:\n",
        "  print(\"Thank you!\")\n",
        "print(\"=========================\")\n",
        "obj_5 = obj_2 + obj_3\n",
        "print(obj_5.detail())\n",
        "if obj_5 > obj_1:\n",
        "  print(\"Congratulations! You get the Tweety as a gift!\")\n",
        "else:\n",
        "  print(\"Thank you!\")"
      ],
      "execution_count": null,
      "outputs": [
        {
          "output_type": "stream",
          "name": "stdout",
          "text": [
            "Doll: Tweety\n",
            "Total Price: 2500 taka\n",
            "Thank you!\n",
            "=========================\n",
            "Doll: Daffy Duck\n",
            "Total Price: 1800 taka\n",
            "Thank you!\n",
            "=========================\n",
            "Doll: Bugs Bunny\n",
            "Total Price: 3000 taka\n",
            "Congratulations! You get the Tweety as a gift!\n",
            "=========================\n",
            "Doll: Porky Pig\n",
            "Total Price: 1500 taka\n",
            "Thank you!\n",
            "=========================\n",
            "Dolls: Daffy Duck Bugs Bunny\n",
            "Total Price: 4800 taka\n",
            "Congratulations! You get the Tweety as a gift!\n"
          ]
        }
      ]
    },
    {
      "cell_type": "code",
      "metadata": {
        "id": "_ynC4NA9LSNt",
        "colab": {
          "base_uri": "https://localhost:8080/"
        },
        "outputId": "3119e2f6-6a31-46ae-aa05-481a06eb45bb"
      },
      "source": [
        "# TASK 8\n",
        "\n",
        "class Coordinates :\n",
        "  def __init__(self,x,y):\n",
        "    self.x = x\n",
        "    self.y = y\n",
        "\n",
        "  def __sub__(self,other):\n",
        "    new = Coordinates(self.x - other.x, self.y - other.y)\n",
        "    return new\n",
        "\n",
        "  def __mul__(self,other):\n",
        "    new = Coordinates(self.x * other.x, self.y * other.y)\n",
        "    return new\n",
        "\n",
        "  def __eq__(self,other):\n",
        "    if self.x == other.x and self.y == other.y :\n",
        "      return \"The calculated coordinates are the same.\"\n",
        "    else:\n",
        "      return \"The calculated coordinates are NOT the same.\"\n",
        "\n",
        "  def detail(self):\n",
        "    output = \"(\" + str(self.x) + \",\" + str(self.y) + \")\"\n",
        "    return output\n",
        "\n",
        "\n",
        "#Write your code here\n",
        "#Do not change the following lines of code\n",
        "p1 = Coordinates(int(input()),int(input()))\n",
        "p2 = Coordinates(int(input()),int(input()))\n",
        "\n",
        "p4 = p1 - p2\n",
        "print(p4.detail())\n",
        "\n",
        "p5 = p1 * p2\n",
        "print(p5.detail())\n",
        "\n",
        "point_check = (p4 == p5)\n",
        "print(point_check)"
      ],
      "execution_count": null,
      "outputs": [
        {
          "output_type": "stream",
          "name": "stdout",
          "text": [
            "0\n",
            "0\n",
            "0\n",
            "0\n",
            "(0,0)\n",
            "(0,0)\n",
            "The calculated coordinates are the same.\n"
          ]
        }
      ]
    }
  ]
}