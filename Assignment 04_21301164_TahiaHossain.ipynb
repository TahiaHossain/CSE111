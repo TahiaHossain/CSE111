{
  "nbformat": 4,
  "nbformat_minor": 0,
  "metadata": {
    "colab": {
      "name": "Assignment 04_21301164_TahiaHossain.ipynb",
      "provenance": [],
      "collapsed_sections": []
    },
    "kernelspec": {
      "name": "python3",
      "display_name": "Python 3"
    },
    "language_info": {
      "name": "python"
    }
  },
  "cells": [
    {
      "cell_type": "code",
      "metadata": {
        "id": "6xHaA8guAxk1"
      },
      "source": [
        "# CSE 111 : Lab Assignment 4\n",
        "# Name    : Tahia Hossain\n",
        "# ID      : 21301164\n",
        "# Section : 08"
      ],
      "execution_count": null,
      "outputs": []
    },
    {
      "cell_type": "code",
      "metadata": {
        "id": "2O3ISAd9A9SA",
        "colab": {
          "base_uri": "https://localhost:8080/"
        },
        "outputId": "6b4fe5b5-f589-4df5-810a-596f94dda724"
      },
      "source": [
        "# TASK 1\n",
        "\n",
        "class Calculator :\n",
        "  def __init__(self):\n",
        "    print(\"Let's Calculate!\")\n",
        "    \n",
        "  def add(self,val1,val2):\n",
        "    total= val1 + val2\n",
        "    return total\n",
        "\n",
        "  def substract(self, val1, val2):\n",
        "    total= val1 - val2\n",
        "    return total\n",
        "\n",
        "  def multiply(self, val1, val2):\n",
        "    total = val1 * val2\n",
        "    return total\n",
        "\n",
        "  def divide(self, val1, val2):\n",
        "    total= val1 / val2\n",
        "    return total\n",
        "\n",
        "cal = Calculator()\n",
        "first_value = int(input('Value 1: '))\n",
        "operator = input('Operator: ')\n",
        "second_value = int(input('Value 2: '))\n",
        "\n",
        "if operator == '+' :\n",
        "  print('Result:',cal.add(first_value,second_value))\n",
        "if operator == '-' :\n",
        "  print(\"Result:\", cal.substract(first_value,second_value))\n",
        "if operator == '*' :\n",
        "  print(\"Result:\", cal.multiply(first_value,second_value))\n",
        "if operator == '/' :\n",
        "  print(\"Result:\", cal.divide(first_value,second_value))"
      ],
      "execution_count": null,
      "outputs": [
        {
          "output_type": "stream",
          "name": "stdout",
          "text": [
            "Let's Calculate!\n",
            "Value 1: 3\n",
            "Operator: -\n",
            "Value 2: 2\n",
            "Result: 1\n"
          ]
        }
      ]
    },
    {
      "cell_type": "code",
      "metadata": {
        "colab": {
          "base_uri": "https://localhost:8080/"
        },
        "id": "8mxuGszsVpnV",
        "outputId": "fcf6f15d-40a0-4d67-923e-d3e51ef474c4"
      },
      "source": [
        "# TASK 2\n",
        "\n",
        "class Customer :\n",
        "  def __init__(self,name):\n",
        "    self.name = name\n",
        "\n",
        "  def greet(self, name = \"None\"):\n",
        "    if name != \"None\" :\n",
        "      print(\"Hello \" + name + \"!\")\n",
        "    else :\n",
        "      print(\"Hello!\")\n",
        "\n",
        "  def purchase(self, *items):\n",
        "    print(self.name + \", you purchased \" + str(len(items)) + \" item(s):\")\n",
        "\n",
        "    for products in items :\n",
        "      print(products)\n",
        "\n",
        "\n",
        "# Write your codes for subtasks 1-4 here.\n",
        "\n",
        "customer_1 = Customer(\"Sam\")\n",
        "customer_1.greet()\n",
        "customer_1.purchase(\"chips\", \"chocolate\", \"orange juice\")\n",
        "print(\"-----------------------------\")\n",
        "customer_2 = Customer(\"David\")\n",
        "customer_2.greet(\"David\")\n",
        "customer_2.purchase(\"orange juice\")"
      ],
      "execution_count": null,
      "outputs": [
        {
          "output_type": "stream",
          "name": "stdout",
          "text": [
            "Hello!\n",
            "Sam, you purchased 3 item(s):\n",
            "chips\n",
            "chocolate\n",
            "orange juice\n",
            "-----------------------------\n",
            "Hello David!\n",
            "David, you purchased 1 item(s):\n",
            "orange juice\n"
          ]
        }
      ]
    },
    {
      "cell_type": "code",
      "metadata": {
        "id": "yHFM5On-t8GF",
        "colab": {
          "base_uri": "https://localhost:8080/"
        },
        "outputId": "48b92aaf-9330-4093-e54d-5fb6a79da770"
      },
      "source": [
        "# TASK 3\n",
        "\n",
        "class Panda :\n",
        "  def __init__(self,name,gender,age) :\n",
        "    self.name = name\n",
        "    self.gender = gender\n",
        "    self.age = age\n",
        "\n",
        "  def sleep(self,hour=\"0\") :\n",
        "    if 3 <= int(hour) <= 5 :\n",
        "      var = self.name + \" sleeps \" + str(hour) + \" hours daily and should have Mixed Veggies\"\n",
        "      #return var\n",
        "      #print(self.name, \"sleeps\", hour, \"hours daily and should have Mixed Veggies\")\n",
        "    elif 6 <= int(hour) <= 8 :\n",
        "      var = self.name + \" sleeps \" + str(hour) + \" hours daily and should have Eggplant & Tofu\"\n",
        "      #return var\n",
        "      #print(self.name, \"sleeps\", hour, \"hours daily and should have Eggplant & Tofu\")\n",
        "    elif 9 <= int(hour) <= 11 :\n",
        "      var = self.name + \" sleeps \" + str(hour) + \" hours daily and should have Broccoli Chicken\"\n",
        "      #return var\n",
        "      #print(self.name, \"sleeps\", hour, \"hours daily and should have Broccoli Chicken\")\n",
        "    else :\n",
        "      var = self.name + \"'s duration is unknown thus should have only bamboo leaves\"\n",
        "      #return var\n",
        "      #print(self.name + \"'s duration is unknown thus should have only bamboo leaves\")\n",
        "    return var\n",
        "\n",
        "# baire eshe purata ekbare return korle ar alada alada kore every time return kora lge na\n",
        "\n",
        "\n",
        "#Write your code here for subtasks 1-4.\n",
        "panda1 = Panda(\"Kunfu\",\"Male\", 5)\n",
        "panda2=Panda(\"Pan Pan\",\"Female\",3)\n",
        "panda3=Panda(\"Ming Ming\",\"Female\",8)\n",
        "print(\"{} is a {} Panda Bear who is {} years old\".format(panda1.name,panda1.gender,panda1.age))\n",
        "print(\"{} is a {} Panda Bear who is {} years old\".format(panda2.name,panda2.gender,panda2.age))\n",
        "print(\"{} is a {} Panda Bear who is {} years old\".format(panda3.name,panda3.gender,panda3.age))\n",
        "print(\"===========================\")\n",
        "print(panda2.sleep(10))\n",
        "print(panda1.sleep(4))\n",
        "print(panda3.sleep())"
      ],
      "execution_count": null,
      "outputs": [
        {
          "output_type": "stream",
          "name": "stdout",
          "text": [
            "Kunfu is a Male Panda Bear who is 5 years old\n",
            "Pan Pan is a Female Panda Bear who is 3 years old\n",
            "Ming Ming is a Female Panda Bear who is 8 years old\n",
            "===========================\n",
            "Pan Pan sleeps 10 hours daily and should have Broccoli Chicken\n",
            "Kunfu sleeps 4 hours daily and should have Mixed Veggies\n",
            "Ming Ming's duration is unknown thus should have only bamboo leaves\n"
          ]
        }
      ]
    },
    {
      "cell_type": "code",
      "metadata": {
        "colab": {
          "base_uri": "https://localhost:8080/"
        },
        "id": "35TDq9ABl7lA",
        "outputId": "1677863c-2d54-41c8-f7bc-2b6d07973273"
      },
      "source": [
        "# TASK 4\n",
        "\n",
        "class Cat :\n",
        "  def __init__(self,color=\"White\",action=\"sitting\") :\n",
        "    self.color = color\n",
        "    self.action = action\n",
        "\n",
        "  def changeColor(self,color) :\n",
        "    self.color = color\n",
        "\n",
        "  def printCat(self):\n",
        "    print(self.color, \"cat is\", self.action)\n",
        "\n",
        "#Write your code here\n",
        "c1 = Cat()\n",
        "c2 = Cat(\"Black\")\n",
        "c3 = Cat(\"Brown\", \"jumping\")\n",
        "c4 = Cat(\"Red\", \"purring\")\n",
        "c1.printCat()\n",
        "c2.printCat()\n",
        "c3.printCat()\n",
        "c4.printCat()\n",
        "c1.changeColor(\"Blue\")\n",
        "c3.changeColor(\"Purple\")\n",
        "c1.printCat()\n",
        "c3.printCat()"
      ],
      "execution_count": null,
      "outputs": [
        {
          "output_type": "stream",
          "name": "stdout",
          "text": [
            "White cat is sitting\n",
            "Black cat is sitting\n",
            "Brown cat is jumping\n",
            "Red cat is purring\n",
            "Blue cat is sitting\n",
            "Purple cat is jumping\n"
          ]
        }
      ]
    },
    {
      "cell_type": "code",
      "metadata": {
        "colab": {
          "base_uri": "https://localhost:8080/"
        },
        "id": "teAWZj3otxpI",
        "outputId": "24b7e467-b929-46ab-dcea-6b9acbfaaa9d"
      },
      "source": [
        "# TASK 5\n",
        "\n",
        "class Student :\n",
        "  def __init__(self,name=\"default student\"):\n",
        "    self.name = name\n",
        "\n",
        "  def quizcalc(self,q1=0,q2=0,q3=0):\n",
        "    self.average = (q1+q2+q3)/3\n",
        "\n",
        "  def printdetail(self):\n",
        "    print(\"Hello\", self.name)\n",
        "    print(\"Your average quiz score is\", self.average)\n",
        "\n",
        "\n",
        "# Write your code here\n",
        "s1 = Student()\n",
        "s1.quizcalc(10)\n",
        "print('--------------------------------')\n",
        "s1.printdetail()\n",
        "s2 = Student('Harry')\n",
        "s2.quizcalc(10,8)\n",
        "print('--------------------------------')\n",
        "s2.printdetail()\n",
        "s3 = Student('Hermione')\n",
        "s3.quizcalc(10,9,10)\n",
        "print('--------------------------------')\n",
        "s3.printdetail()"
      ],
      "execution_count": null,
      "outputs": [
        {
          "output_type": "stream",
          "name": "stdout",
          "text": [
            "--------------------------------\n",
            "Hello default student\n",
            "Your average quiz score is 3.3333333333333335\n",
            "--------------------------------\n",
            "Hello Harry\n",
            "Your average quiz score is 6.0\n",
            "--------------------------------\n",
            "Hello Hermione\n",
            "Your average quiz score is 9.666666666666666\n"
          ]
        }
      ]
    },
    {
      "cell_type": "code",
      "metadata": {
        "colab": {
          "base_uri": "https://localhost:8080/"
        },
        "id": "OmyvNe3jVzFt",
        "outputId": "9a571c4f-f3ab-4d59-b86e-1d6a2e80447c"
      },
      "source": [
        "# TASK 6\n",
        "\n",
        "class Vehicle :\n",
        "  def __init__(self):\n",
        "    self.x = 0\n",
        "    self.y = 0\n",
        "\n",
        "  def moveUp(self):\n",
        "    self.y += 1\n",
        "  \n",
        "  def moveDown(self):\n",
        "    self.y -= 1\n",
        "\n",
        "  def moveLeft(self):\n",
        "    self.x -= 1\n",
        "\n",
        "  def moveRight(self):\n",
        "     self.x += 1\n",
        "\n",
        "  def print_position(self):\n",
        "    print(\"(\" + str(self.x) + \",\" + str(self.y) + \")\")\n",
        "\n",
        "\n",
        "# Write your class here\n",
        "car = Vehicle()\n",
        "car.print_position()\n",
        "car.moveUp()\n",
        "car.print_position()\n",
        "car.moveLeft()\n",
        "car.print_position()\n",
        "car.moveDown()\n",
        "car.print_position()\n",
        "car.moveRight()"
      ],
      "execution_count": null,
      "outputs": [
        {
          "output_type": "stream",
          "name": "stdout",
          "text": [
            "(0,0)\n",
            "(0,1)\n",
            "(-1,1)\n",
            "(-1,0)\n"
          ]
        }
      ]
    },
    {
      "cell_type": "code",
      "metadata": {
        "colab": {
          "base_uri": "https://localhost:8080/"
        },
        "id": "cAMHnT0AYpK7",
        "outputId": "904de715-93f7-402b-c654-3a11945be700"
      },
      "source": [
        "# TASK 7\n",
        "\n",
        "class Programmer :\n",
        "  def __init__(self,name,lang,exp):\n",
        "    self.name = name\n",
        "    self.lang = lang\n",
        "    self.exp = exp\n",
        "    print(\"Horray! A new programmer is born\")\n",
        "\n",
        "  def addExp(self,year):\n",
        "    self.exp += year\n",
        "    print(\"Updating experience of\", self.name)\n",
        "    #self.exp += year\n",
        "\n",
        "  def printDetails(self):\n",
        "    print(\"Name:\", self.name)\n",
        "    print(\"Language:\", self.lang)\n",
        "    print(\"Experience:\", self.exp, \"years.\")\n",
        "\n",
        "\n",
        "# Write your code here.\n",
        "p1 = Programmer(\"Ethen Hunt\", \"Java\", 10)\n",
        "p1.printDetails()\n",
        "print('--------------------------')\n",
        "p2 = Programmer(\"James Bond\", \"C++\", 7)\n",
        "p2.printDetails()\n",
        "print('--------------------------')\n",
        "p3 = Programmer(\"Jon Snow\", \"Python\", 4)\n",
        "p3.printDetails()\n",
        "p3.addExp(5)\n",
        "p3.printDetails()"
      ],
      "execution_count": null,
      "outputs": [
        {
          "output_type": "stream",
          "name": "stdout",
          "text": [
            "Horray! A new programmer is born\n",
            "Name: Ethen Hunt\n",
            "Language: Java\n",
            "Experience: 10 years.\n",
            "--------------------------\n",
            "Horray! A new programmer is born\n",
            "Name: James Bond\n",
            "Language: C++\n",
            "Experience: 7 years.\n",
            "--------------------------\n",
            "Horray! A new programmer is born\n",
            "Name: Jon Snow\n",
            "Language: Python\n",
            "Experience: 4 years.\n",
            "Updating experience of Jon Snow\n",
            "Name: Jon Snow\n",
            "Language: Python\n",
            "Experience: 9 years.\n"
          ]
        }
      ]
    },
    {
      "cell_type": "code",
      "metadata": {
        "colab": {
          "base_uri": "https://localhost:8080/"
        },
        "id": "YQpF1iAmbwkz",
        "outputId": "c099aee8-b1be-4edf-b836-cbef256da123"
      },
      "source": [
        "# TASK 8\n",
        "\n",
        "class Student :\n",
        "  def __init__(self,name,ID,dept=\"CSE\"):\n",
        "    self.name = name\n",
        "    self.ID = ID\n",
        "    self.dept = dept\n",
        "\n",
        "  def dailyEffort(self,hour):\n",
        "    self.hour = hour\n",
        "\n",
        "  def printDetails(self):\n",
        "    print(\"Name:\", self.name)\n",
        "    print(\"ID:\", self.ID)\n",
        "    print(\"Department:\", self.dept)\n",
        "    print(\"Daily Effort: \" + str(self.hour) + \" hour(s)\")\n",
        "    if self.hour <= 2 :\n",
        "      print('Suggestion: Should give more effort!')\n",
        "    elif self.hour <= 4 :\n",
        "      print('Suggestion: Keep up the good work!')\n",
        "    else :\n",
        "      print('Suggestion: Excellent! Now motivate others.')\n",
        "\n",
        "\n",
        "# Write your code here.\n",
        "harry = Student('Harry Potter', 123)\n",
        "harry.dailyEffort(3)\n",
        "harry.printDetails()\n",
        "print('========================')\n",
        "john = Student(\"John Wick\", 456, \"BBA\")\n",
        "john.dailyEffort(2)\n",
        "john.printDetails()\n",
        "print('========================')\n",
        "naruto = Student(\"Naruto Uzumaki\", 777, \"Ninja\")\n",
        "naruto.dailyEffort(6)\n",
        "naruto.printDetails()"
      ],
      "execution_count": null,
      "outputs": [
        {
          "output_type": "stream",
          "name": "stdout",
          "text": [
            "Name: Harry Potter\n",
            "ID: 123\n",
            "Department: CSE\n",
            "Daily Effort: 3 hour(s)\n",
            "Suggestion: Keep up the good work!\n",
            "========================\n",
            "Name: John Wick\n",
            "ID: 456\n",
            "Department: BBA\n",
            "Daily Effort: 2 hour(s)\n",
            "Suggestion: Should give more effort!\n",
            "========================\n",
            "Name: Naruto Uzumaki\n",
            "ID: 777\n",
            "Department: Ninja\n",
            "Daily Effort: 6 hour(s)\n",
            "Suggestion: Excellent! Now motivate others.\n"
          ]
        }
      ]
    },
    {
      "cell_type": "code",
      "metadata": {
        "colab": {
          "base_uri": "https://localhost:8080/"
        },
        "id": "pYt5HqIcmr1G",
        "outputId": "22f65555-4f17-41d9-c56d-45fb9923e975"
      },
      "source": [
        "# TASK 9\n",
        "\n",
        "class Patient :\n",
        "  def __init__(self,name,age):\n",
        "    self.name = name\n",
        "    self.age = age\n",
        "\n",
        "  def add_Symptom(self, *symps):\n",
        "    self.symptoms = symps\n",
        "\n",
        "  def printPatientDetail(self):\n",
        "    print(\"Name:\", self.name)\n",
        "    print(\"Age:\", self.age)\n",
        "    print(\"Symptoms:\", end = \" \")\n",
        "    for x in self.symptoms :\n",
        "      if x != self.symptoms[-1] :\n",
        "        print(x, end = \", \")\n",
        "      else :\n",
        "        print(x)\n",
        "\n",
        "\n",
        "# Write your code here.\n",
        "p1 = Patient(\"Thomas\", 23)\n",
        "p1.add_Symptom(\"Headache\")\n",
        "p2 = Patient(\"Carol\", 20)\n",
        "p2.add_Symptom(\"Vomiting\", \"Coughing\")\n",
        "p3 = Patient(\"Mike\", 25)\n",
        "p3.add_Symptom(\"Fever\", \"Headache\", \"Coughing\")\n",
        "print(\"=========================\")\n",
        "p1.printPatientDetail()\n",
        "print(\"=========================\")\n",
        "p2.printPatientDetail()\n",
        "print(\"=========================\")\n",
        "p3.printPatientDetail()\n",
        "print(\"=========================\")"
      ],
      "execution_count": null,
      "outputs": [
        {
          "output_type": "stream",
          "name": "stdout",
          "text": [
            "=========================\n",
            "Name: Thomas\n",
            "Age: 23\n",
            "Symptoms: Headache\n",
            "=========================\n",
            "Name: Carol\n",
            "Age: 20\n",
            "Symptoms: Vomiting, Coughing\n",
            "=========================\n",
            "Name: Mike\n",
            "Age: 25\n",
            "Symptoms: Fever, Headache, Coughing\n",
            "=========================\n"
          ]
        }
      ]
    },
    {
      "cell_type": "code",
      "metadata": {
        "colab": {
          "base_uri": "https://localhost:8080/"
        },
        "id": "LuJmhp5BqviW",
        "outputId": "428bf1dc-3cf2-4788-812a-93f19bc4773c"
      },
      "source": [
        "# TASK 10\n",
        "\n",
        "class Avengers :\n",
        "  def __init__(self,name,partner):\n",
        "    self.name = name\n",
        "    self.partner = partner\n",
        "  \n",
        "  def super_powers(self, *power):\n",
        "    self.spower = power\n",
        "\n",
        "  def printAvengersDetail(self):\n",
        "    print(\"Name:\", self.name)\n",
        "    print(\"Partner:\", self.partner)\n",
        "    print(\"Super powers:\", end = \" \")\n",
        "    for power in self.spower :\n",
        "      if power != self.spower[-1] :\n",
        "        print(power, end = \", \")\n",
        "      else :\n",
        "        print(power)\n",
        "\n",
        "# Write your code here.\n",
        "a1 = Avengers('Captain America', 'Bucky Barnes')\n",
        "a1.super_powers('Stamina', 'Slowed ageing')\n",
        "a2 = Avengers('Doctor Strange', 'Ancient One')\n",
        "a2.super_powers('Mastery of magic')\n",
        "a3 = Avengers('Iron Man', 'War Machine')\n",
        "a3.super_powers('Genius level intellect', 'Scientist ')\n",
        "print(\"=========================\")\n",
        "a1.printAvengersDetail()\n",
        "print(\"=========================\")\n",
        "a2.printAvengersDetail()\n",
        "print(\"=========================\")\n",
        "a3.printAvengersDetail()\n",
        "print(\"=========================\")"
      ],
      "execution_count": null,
      "outputs": [
        {
          "output_type": "stream",
          "name": "stdout",
          "text": [
            "=========================\n",
            "Name: Captain America\n",
            "Partner: Bucky Barnes\n",
            "Super powers: Stamina, Slowed ageing\n",
            "=========================\n",
            "Name: Doctor Strange\n",
            "Partner: Ancient One\n",
            "Super powers: Mastery of magic\n",
            "=========================\n",
            "Name: Iron Man\n",
            "Partner: War Machine\n",
            "Super powers: Genius level intellect, Scientist \n",
            "=========================\n"
          ]
        }
      ]
    },
    {
      "cell_type": "code",
      "metadata": {
        "colab": {
          "base_uri": "https://localhost:8080/"
        },
        "id": "q58JuDbmt0S8",
        "outputId": "03a79530-7a72-4ecc-b9a3-d2df744ee2af"
      },
      "source": [
        "# TASK 11\n",
        "\n",
        "class Shinobi :\n",
        "  def __init__(self,name,rank):\n",
        "    self.name = name\n",
        "    self.rank = rank\n",
        "    self.mission = 0\n",
        "    self.salary = 0\n",
        "\n",
        "  def changeRank(self,rank):\n",
        "    self.rank = rank\n",
        "\n",
        "  def calSalary(self,mission):\n",
        "    self.mission = mission\n",
        "    \n",
        "    if self.rank == 'Genin' :\n",
        "      self.salary = self.mission * 50\n",
        "    elif self.rank == 'Chunin' :\n",
        "      self.salary = self.mission * 100\n",
        "    else :\n",
        "      self.salary = self.mission * 500\n",
        "\n",
        "  def printInfo(self):\n",
        "    print(\"Name:\", self.name)\n",
        "    print(\"Rank:\", self.rank)\n",
        "    print(\"Number of mission:\", self.mission)\n",
        "    print(\"Salary:\", self.salary)\n",
        "\n",
        "\n",
        "# Write your code here.\n",
        "naruto = Shinobi(\"Naruto\", \"Genin\")\n",
        "naruto.calSalary(5)\n",
        "naruto.printInfo()\n",
        "print('====================')\n",
        "shikamaru = Shinobi('Shikamaru', \"Genin\")\n",
        "shikamaru.printInfo()\n",
        "shikamaru.changeRank(\"Chunin\")\n",
        "shikamaru.calSalary(10)\n",
        "shikamaru.printInfo()\n",
        "print('====================')\n",
        "neiji = Shinobi(\"Neiji\", \"Jonin\")\n",
        "neiji.calSalary(5)\n",
        "neiji.printInfo()"
      ],
      "execution_count": null,
      "outputs": [
        {
          "output_type": "stream",
          "name": "stdout",
          "text": [
            "Name: Naruto\n",
            "Rank: Genin\n",
            "Number of mission: 5\n",
            "Salary: 250\n",
            "====================\n",
            "Name: Shikamaru\n",
            "Rank: Genin\n",
            "Number of mission: 0\n",
            "Salary: 0\n",
            "Name: Shikamaru\n",
            "Rank: Chunin\n",
            "Number of mission: 10\n",
            "Salary: 1000\n",
            "====================\n",
            "Name: Neiji\n",
            "Rank: Jonin\n",
            "Number of mission: 5\n",
            "Salary: 2500\n"
          ]
        }
      ]
    },
    {
      "cell_type": "code",
      "metadata": {
        "colab": {
          "base_uri": "https://localhost:8080/"
        },
        "id": "rG6ZGm5vym7B",
        "outputId": "5b0f4f9f-963c-4cdb-c6c7-298d561a9c36"
      },
      "source": [
        "# TASK 12\n",
        "\n",
        "class ParcelKoro :\n",
        "  def __init__(self,name=\"No name set\",weight=0):\n",
        "    self.name = name\n",
        "    self.product_weight = weight\n",
        "\n",
        "  def calculateFee(self,place='None'):\n",
        "    self.location = place\n",
        "    if self.product_weight == 0 :\n",
        "      self.total_fee = 0\n",
        "    else :\n",
        "      if place == 'None' :\n",
        "        self.total_fee = (self.product_weight * 20) + 50\n",
        "      else:\n",
        "        self.total_fee = (self.product_weight * 20) + 100\n",
        "        #total_fee = (total_weight * 20) + location_charge.\n",
        "\n",
        "  def printDetails(self):\n",
        "    print(\"Customer Name:\", self.name)\n",
        "    print(\"Product Weight:\", self.product_weight)\n",
        "    print(\"Total fee:\", self.total_fee)\n",
        "\n",
        "# Write your code here.\n",
        "print(\"**********************\")\n",
        "p1 = ParcelKoro()\n",
        "p1.calculateFee()\n",
        "p1.printDetails()\n",
        "print(\"**********************\")\n",
        "p2 = ParcelKoro('Bob The Builder')\n",
        "p2.calculateFee()\n",
        "p2.printDetails()\n",
        "print(\"----------------------------\")\n",
        "p2.product_weight = 15\n",
        "p2.calculateFee()\n",
        "p2.printDetails()\n",
        "print(\"**********************\")\n",
        "p3 = ParcelKoro('Dora The Explorer', 10)\n",
        "p3.calculateFee('Dhanmondi')\n",
        "p3.printDetails()"
      ],
      "execution_count": null,
      "outputs": [
        {
          "output_type": "stream",
          "name": "stdout",
          "text": [
            "**********************\n",
            "Customer Name: No name set\n",
            "Product Weight: 0\n",
            "Total fee: 0\n",
            "**********************\n",
            "Customer Name: Bob The Builder\n",
            "Product Weight: 0\n",
            "Total fee: 0\n",
            "----------------------------\n",
            "Customer Name: Bob The Builder\n",
            "Product Weight: 15\n",
            "Total fee: 350\n",
            "**********************\n",
            "Customer Name: Dora The Explorer\n",
            "Product Weight: 10\n",
            "Total fee: 300\n"
          ]
        }
      ]
    },
    {
      "cell_type": "code",
      "metadata": {
        "id": "VozhRdP4o-Z_",
        "colab": {
          "base_uri": "https://localhost:8080/"
        },
        "outputId": "ed063469-f8e3-4e6e-f6e9-e7a9cfd7436a"
      },
      "source": [
        "# TASK 13\n",
        "\n",
        "class Batsman :\n",
        "  def __init__(self,*career):\n",
        "    if len(career) == 2 :\n",
        "      self.name = 'New Batsman'\n",
        "      self.runsScored = career[0]\n",
        "      self.ballsFaced = career[1]\n",
        "    elif len(career) == 3 :\n",
        "      self.name = career[0]\n",
        "      self.runsScored = career[1]\n",
        "      self.ballsFaced = career[2]\n",
        "\n",
        "  def setName(self,name):\n",
        "    self.name = name\n",
        "\n",
        "  def battingStrikeRate(self):\n",
        "    self.batting_strike_rate = (self.runsScored / self.ballsFaced) * 100\n",
        "\n",
        "    if self.name == 'New Batsman':\n",
        "      pass\n",
        "    else:\n",
        "      return self.batting_strike_rate\n",
        "\n",
        "  def printCareerStatistics(self):\n",
        "    print('Name:', self.name)\n",
        "    print('Runs Scored:', self.runsScored, ',' + ' Balls Faced:', self.ballsFaced)\n",
        "\n",
        "\n",
        "# Write your code here\n",
        "b1 = Batsman(6101, 7380)\n",
        "b1.printCareerStatistics()\n",
        "print(\"============================\")\n",
        "b2 = Batsman(\"Liton Das\", 678, 773)\n",
        "b2.printCareerStatistics()\n",
        "print(\"----------------------------\")\n",
        "print(b2.battingStrikeRate())\n",
        "print(\"============================\")\n",
        "b1.setName(\"Shakib Al Hasan\")\n",
        "b1.printCareerStatistics()\n",
        "print(\"----------------------------\")\n",
        "print(b1.battingStrikeRate())"
      ],
      "execution_count": null,
      "outputs": [
        {
          "output_type": "stream",
          "name": "stdout",
          "text": [
            "Name: New Batsman\n",
            "Runs Scored: 6101 , Balls Faced: 7380\n",
            "============================\n",
            "Name: Liton Das\n",
            "Runs Scored: 678 , Balls Faced: 773\n",
            "----------------------------\n",
            "87.71021992238033\n",
            "============================\n",
            "Name: Shakib Al Hasan\n",
            "Runs Scored: 6101 , Balls Faced: 7380\n",
            "----------------------------\n",
            "82.66937669376694\n"
          ]
        }
      ]
    },
    {
      "cell_type": "code",
      "metadata": {
        "colab": {
          "base_uri": "https://localhost:8080/"
        },
        "id": "Hj7Gf7ewqmWl",
        "outputId": "e9ef2c84-b801-49ef-acf8-fe990925d659"
      },
      "source": [
        "# TASK 14\n",
        "\n",
        "class EPL_Team :\n",
        "  def __init__(self,name,song=\"No Slogan\",title=0):\n",
        "    self.team = name\n",
        "    self.song = song\n",
        "    self.title = title\n",
        "\n",
        "  def increaseTitle(self,title=1):\n",
        "    self.title = title\n",
        "\n",
        "  def changeSong(self,song='Keep the blue flag flying high'):\n",
        "    self.song = song\n",
        "\n",
        "  def showClubInfo(self):\n",
        "    var = \"Name: \" + self.team + \"\\n\" + \"Song: \" + self.song + \"\\n\" + \"Total No of title: \" + str(self.title)\n",
        "    return var\n",
        "    #print(\"Name:\", self.team)\n",
        "    #print(\"Song:\", self.song)\n",
        "    #print(\"Total No of tilte:\", self.title)\n",
        "\n",
        "\n",
        "# Write your code here\n",
        "manu = EPL_Team('Manchester United', 'Glory Glory Man United')\n",
        "chelsea = EPL_Team('Chelsea')\n",
        "print('===================')\n",
        "print(manu.showClubInfo())\n",
        "print('##################')\n",
        "manu.increaseTitle()\n",
        "print(manu.showClubInfo())\n",
        "print('===================')\n",
        "print(chelsea.showClubInfo())\n",
        "chelsea.changeSong('Keep the blue flag flying high')\n",
        "print(chelsea.showClubInfo())"
      ],
      "execution_count": null,
      "outputs": [
        {
          "output_type": "stream",
          "name": "stdout",
          "text": [
            "===================\n",
            "Name: Manchester United\n",
            "Song: Glory Glory Man United\n",
            "Total No of title: 0\n",
            "##################\n",
            "Name: Manchester United\n",
            "Song: Glory Glory Man United\n",
            "Total No of title: 1\n",
            "===================\n",
            "Name: Chelsea\n",
            "Song: No Slogan\n",
            "Total No of title: 0\n",
            "Name: Chelsea\n",
            "Song: Keep the blue flag flying high\n",
            "Total No of title: 0\n"
          ]
        }
      ]
    },
    {
      "cell_type": "code",
      "metadata": {
        "colab": {
          "base_uri": "https://localhost:8080/"
        },
        "id": "WC4ZnYJhqzDI",
        "outputId": "f2e98692-e348-4114-94d4-88e5df74a037"
      },
      "source": [
        "# TASK 15\n",
        "\n",
        "class Account :\n",
        "  def __init__(self,name='Default Account',balance=0.0):\n",
        "    self.name = name\n",
        "    self.balance = balance\n",
        "\n",
        "  def details(self):\n",
        "    #print(self.name)\n",
        "    #print(self.balance)\n",
        "    output = self.name + '\\n' + str(self.balance)\n",
        "    return output\n",
        "\n",
        "  def withdraw(self,wdraw):\n",
        "    self.wdraw = wdraw\n",
        "    if self.wdraw > self.balance or self.wdraw >= 6930 :\n",
        "      print(\"Sorry, Withdraw unsuccessful! The account balance after deducting withdraw amount is equal to or less than minimum.\")\n",
        "    else :\n",
        "      self.balance = self.balance - self.wdraw\n",
        "      print(\"Withdraw successful! New balance is:\", self.balance)\n",
        "      #print(self.balance)\n",
        "\n",
        "\n",
        "# Write your code here\n",
        "a1 = Account()\n",
        "print(a1.details())\n",
        "print(\"------------------------\")\n",
        "a1.name = \"Oliver\"\n",
        "a1.balance = 10000.0\n",
        "print(a1.details())\n",
        "print(\"------------------------\")\n",
        "a2 = Account(\"Liam\")\n",
        "print(a2.details())\n",
        "print(\"------------------------\")\n",
        "a3 = Account(\"Noah\",400)\n",
        "print(a3.details())\n",
        "print(\"------------------------\")\n",
        "a1.withdraw(6930);\n",
        "print(\"------------------------\")\n",
        "a2.withdraw(600);\n",
        "print(\"------------------------\")\n",
        "a1.withdraw(6929)"
      ],
      "execution_count": null,
      "outputs": [
        {
          "output_type": "stream",
          "name": "stdout",
          "text": [
            "Default Account\n",
            "0.0\n",
            "------------------------\n",
            "Oliver\n",
            "10000.0\n",
            "------------------------\n",
            "Liam\n",
            "0.0\n",
            "------------------------\n",
            "Noah\n",
            "400\n",
            "------------------------\n",
            "Sorry, Withdraw unsuccessful! The account balance after deducting withdraw amount is equal to or less than minimum.\n",
            "------------------------\n",
            "Sorry, Withdraw unsuccessful! The account balance after deducting withdraw amount is equal to or less than minimum.\n",
            "------------------------\n",
            "Withdraw successful! New balance is: 3071.0\n"
          ]
        }
      ]
    },
    {
      "cell_type": "code",
      "metadata": {
        "colab": {
          "base_uri": "https://localhost:8080/"
        },
        "id": "NL-MU-JkrApJ",
        "outputId": "fd59ab95-99f3-4200-914a-c6d1c93faa65"
      },
      "source": [
        "# TASK 16\n",
        "\n",
        "class Author :\n",
        "  def __init__(self,name=\"Default\",*books):\n",
        "    self.name = name\n",
        "    self.books = books\n",
        "    #print(\"Author Name:\", self.name)\n",
        "    #print(\"--------\")\n",
        "\n",
        "  def addBooks(self,*book):\n",
        "    self.books = book\n",
        "\n",
        "  def changeName(self,new_name):\n",
        "    self.name = new_name\n",
        "  \n",
        "  def printDetails(self):\n",
        "    print(\"Author Name:\", self.name)\n",
        "    print(\"--------\")\n",
        "    print('List of Books:')\n",
        "    for book in self.books:\n",
        "      print(book)\n",
        "\n",
        "\n",
        "# Write your code here\n",
        "auth1 = Author('Humayun Ahmed')\n",
        "auth1.addBooks('Deyal', 'Megher Opor Bari')\n",
        "auth1.printDetails()\n",
        "print('===================')\n",
        "auth2 = Author()\n",
        "print(auth2.name)\n",
        "auth2.changeName('Mario Puzo')\n",
        "auth2.addBooks('The Godfather', 'Omerta', 'The Sicilian')\n",
        "print('===================')\n",
        "auth2.printDetails()\n",
        "print('===================')\n",
        "auth3 = Author('Paolo Coelho', 'The Alchemist', 'The Fifth Mountain')\n",
        "auth3.printDetails()"
      ],
      "execution_count": null,
      "outputs": [
        {
          "output_type": "stream",
          "name": "stdout",
          "text": [
            "Author Name: Humayun Ahmed\n",
            "--------\n",
            "List of Books:\n",
            "Deyal\n",
            "Megher Opor Bari\n",
            "===================\n",
            "Default\n",
            "===================\n",
            "Author Name: Mario Puzo\n",
            "--------\n",
            "List of Books:\n",
            "The Godfather\n",
            "Omerta\n",
            "The Sicilian\n",
            "===================\n",
            "Author Name: Paolo Coelho\n",
            "--------\n",
            "List of Books:\n",
            "The Alchemist\n",
            "The Fifth Mountain\n"
          ]
        }
      ]
    },
    {
      "cell_type": "code",
      "metadata": {
        "id": "8tFq7YKMrJIK"
      },
      "source": [
        "# TASK 17\n",
        "\n",
        "class Student :\n",
        "\n",
        "# Write your code here\n",
        "# Do not change the following lines of code.\n",
        "s1 = Student()\n",
        "print(“=========================”)\n",
        "s2 = Student(“Carol”)\n",
        "print(“=========================”)\n",
        "s3 = Student(“Jon”, “EEE”)\n",
        "print(“=========================”)\n",
        "s1.update_name(“Bob”)\n",
        "s1.update_department(“CSE”)\n",
        "s2.update_department(“BBA”)\n",
        "s1.enroll(“CSE110”, “MAT110”, “ENG091”)\n",
        "s2.enroll(“BUS101”)\n",
        "s3.enroll(““MAT110”, “PHY111”)\n",
        "print(“###########################”)\n",
        "s1.printDetail()\n",
        "print(“=========================”)\n",
        "s2.printDetail()\n",
        "print(“=========================”)\n",
        "s3.printDetail()"
      ],
      "execution_count": null,
      "outputs": []
    },
    {
      "cell_type": "code",
      "metadata": {
        "id": "Rryt3NeQrUK4"
      },
      "source": [
        "# TASK 18\n",
        "\n",
        "class Student :\n",
        "  \n",
        "\n",
        "# Write your code here\n",
        "# Do not change the following lines of code.\n",
        "s1 = Student(“Alice”,“20103012”,“CSE”)\n",
        "s2 = Student(“Bob”, “18301254”,“EEE”)\n",
        "s3 = Student(“Carol”, “17101238”,“CSE”)\n",
        "print(“##########################”)\n",
        "print(s1.details())\n",
        "print(“##########################”)\n",
        "print(s2.details())\n",
        "print(“##########################”)\n",
        "s1.advise(“CSE110”, “MAT110”, “PHY111”)\n",
        "print(“##########################”)\n",
        "s2.advise(“BUS101”, “MAT120”)\n",
        "print(“##########################”)\n",
        "s3.advise(“MAT110”, “PHY111”, “ENG102”,\n",
        "“CSE111”, “CSE230”)"
      ],
      "execution_count": null,
      "outputs": []
    },
    {
      "cell_type": "code",
      "metadata": {
        "id": "2fpdOO2RrgVU"
      },
      "source": [
        "# TASK 19\n",
        "\n",
        "class Hotel :\n",
        "\n",
        "\n",
        "# Write your code here\n",
        "# Do not change the following lines of code.\n",
        "h = Hotel(\"Lakeshore\")\n",
        "h.addStuff( \"Adam\", 26)\n",
        "print(\"=================================\")\n",
        "print(h.getStuffById(1))\n",
        "print(\"=================================\")\n",
        "h.addGuest(“Carol”,35,”123”)\n",
        "print(\"=================================\")\n",
        "print(h.getGuestById(1))\n",
        "print(\"=================================\")\n",
        "h.addGuest(\"Diana\", 32, “431”)\n",
        "print(\"=================================\")\n",
        "print(h.getGuestById(2))\n",
        "print(\"=================================\")\n",
        "h.allStaffs()\n",
        "print(\"=================================\")\n",
        "h.allGuest()"
      ],
      "execution_count": null,
      "outputs": []
    },
    {
      "cell_type": "code",
      "metadata": {
        "id": "aeLxeRyprpa1"
      },
      "source": [
        "# TASK 20\n",
        "\n",
        "class Author:\n",
        "\n",
        "\n",
        "# Write your code here\n",
        "# Do not change the following lines of code.\n",
        "a1 = Author()\n",
        "print(\"=================================\")\n",
        "a1.addBook(“Ice”, “Science Fiction”)\n",
        "print(\"=================================\")\n",
        "a1.setName(“Anna Kavan”)\n",
        "a1.addBook(“Ice”, “Science Fiction”)\n",
        "a1.printDetail()\n",
        "print(\"=================================\")\n",
        "a2 = Author(“Humayun Ahmed”)\n",
        "a2.addBook(“Onnobhubon”, “Science Fiction”)\n",
        "a2.addBook(“Megher Upor Bari”, “Horror”)\n",
        "print(=================================\")\n",
        "a2.printDetail()\n",
        "a2.addBook(“Ireena”, “Science Fiction”)\n",
        "print(\"=================================\")\n",
        "a2.printDetail()\n",
        "print(\"=================================\")"
      ],
      "execution_count": null,
      "outputs": []
    },
    {
      "cell_type": "code",
      "metadata": {
        "id": "1XKw8rgErywQ",
        "colab": {
          "base_uri": "https://localhost:8080/",
          "height": 130
        },
        "outputId": "ffc27c78-9b9f-4647-8fc7-496258ac9735"
      },
      "source": [
        "# TASK 21\n",
        "\n",
        "class Hospital:\n",
        "  def __init__(self,name):\n",
        "    self.name = name\n",
        "    self.patient = {}\n",
        "    self.doctor = {}\n",
        "\n",
        "  def addDoctor(self,doc):\n",
        "    self.doctor[doc.id] = [doc.name,doc.sp]\n",
        "  \n",
        "  def addPatient(self,pat):\n",
        "    self.patient[pat.id] = [pat.name,pat.age,pat.phn]\n",
        "\n",
        "  def getDoctorByID(self,id):\n",
        "    self.id = id\n",
        "\n",
        "  def getPatientByID(self,id):\n",
        "    self.id = id\n",
        "\n",
        "  def allDoctors(self):\n",
        "    print(self.name)\n",
        "    print(self.doctor)\n",
        "\n",
        "  def allPatients(self):\n",
        "    print(self.name)\n",
        "    print(self.patient)\n",
        "\n",
        "class Doctor:\n",
        "  def __init__(self,id,prof=\"Doctor\",name,sp):\n",
        "    self.id = id\n",
        "    self.prof = prof\n",
        "    self.name = name\n",
        "    self.sp = sp\n",
        "\n",
        "class Patient:\n",
        "  def __init__(self,id,prof='Patient',name,age,phn):\n",
        "    self.id = id\n",
        "    self.prof = prof\n",
        "    self.name = name\n",
        "    self.age = age\n",
        "    self.phn = phn\n",
        "\n",
        "\n",
        "# Write your code here\n",
        "# Do not change the following lines of code.\n",
        "h = Hospital(\"Evercare\")\n",
        "d1 = Doctor(\"1d\",\"Doctor\", \"Samar Kumar\", \"Neurologist\")\n",
        "h.addDoctor(d1)\n",
        "print(\"=================================\")\n",
        "print(h.getDoctorByID(\"1d\"))\n",
        "print(\"=================================\")\n",
        "p1 = Patient(\"1p\",\"Patient\", \"Kashem Ahmed\", 35, 12345)\n",
        "h.addPatient(p1)\n",
        "print(\"=================================\")\n",
        "print(h.getPatientByID(\"1p\"))\n",
        "print(\"=================================\")\n",
        "p2 = Patient (\"2p\",\"Patient\", \"Tanina Haque\", 26, 33456)\n",
        "h.addPatient(p2)\n",
        "print(\"=================================\")\n",
        "print(h.getPatientByID(\"2p\"))\n",
        "print(\"=================================\")\n",
        "h.allDoctors()\n",
        "h.allPatients()"
      ],
      "execution_count": null,
      "outputs": [
        {
          "output_type": "error",
          "ename": "SyntaxError",
          "evalue": "ignored",
          "traceback": [
            "\u001b[0;36m  File \u001b[0;32m\"<ipython-input-2-ddba3ef5a027>\"\u001b[0;36m, line \u001b[0;32m30\u001b[0m\n\u001b[0;31m    def __init__(self,id,prof=\"Doctor\",name,sp):\u001b[0m\n\u001b[0m                ^\u001b[0m\n\u001b[0;31mSyntaxError\u001b[0m\u001b[0;31m:\u001b[0m non-default argument follows default argument\n"
          ]
        }
      ]
    },
    {
      "cell_type": "code",
      "metadata": {
        "id": "bMMd0TgMoMjq"
      },
      "source": [
        "# TASK 22\n",
        "\n",
        "class Vaccine :\n",
        "  def __init__(self,name,origin,days):\n",
        "    self.name = name\n",
        "    self.origin = origin\n",
        "    self.day = days\n",
        "\n",
        "class Person :\n",
        "  def __init__(self,name,age,occupation=\"General Citizen\"):\n",
        "    self.name = name\n",
        "    self.age = age\n",
        "    self.occupation = occupation\n",
        "    \n",
        "  def pushVaccine(self,Vname,dose):\n",
        "\n",
        "  def showDetail(self):\n",
        "\n",
        "\n",
        "# Write your code here\n",
        "astra = Vaccine(\"AstraZeneca\", \"UK\", 60)\n",
        "modr = Vaccine(\"Moderna\", \"UK\", 30)\n",
        "sin = Vaccine(\"Sinopharm\", \"China\", 30)\n",
        "p1 = Person(\"Bob\", 21, \"Student\")\n",
        "print(\"=================================\")\n",
        "p1.pushVaccine(astra)\n",
        "print(\"=================================\")\n",
        "p1.showDetail()\n",
        "print(\"=================================\")\n",
        "p1.pushVaccine(sin, \"2nd Dose\")\n",
        "print(\"=================================\")\n",
        "p1.pushVaccine(astra, \"2nd Dose\")\n",
        "print(\"=================================\")\n",
        "p1.showDetail()\n",
        "print(\"=================================\")\n",
        "p2 = Person(\"Carol\", 23, \"Actor\")\n",
        "print(\"=================================\")\n",
        "p2.pushVaccine(sin)\n",
        "print(\"=================================\")\n",
        "p3 = Person(\"David\", 34)\n",
        "print(\"=================================\")\n",
        "p3.pushVaccine(modr)\n",
        "print(\"=================================\")\n",
        "p3.showDetail()\n",
        "print(\"=================================\")\n",
        "p3.pushVaccine(modr, \"2nd Dose\")"
      ],
      "execution_count": null,
      "outputs": []
    }
  ]
}