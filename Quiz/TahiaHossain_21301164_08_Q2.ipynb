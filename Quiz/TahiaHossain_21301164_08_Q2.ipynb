{
  "nbformat": 4,
  "nbformat_minor": 0,
  "metadata": {
    "colab": {
      "name": "TahiaHossain_21301164_08.ipynb",
      "provenance": [],
      "collapsed_sections": []
    },
    "kernelspec": {
      "name": "python3",
      "display_name": "Python 3"
    },
    "language_info": {
      "name": "python"
    }
  },
  "cells": [
    {
      "cell_type": "code",
      "metadata": {
        "id": "S4jlGQfjiFvg",
        "colab": {
          "base_uri": "https://localhost:8080/",
          "height": 246
        },
        "outputId": "7a365e3b-2bea-44fe-b35b-566cf79e4d2e"
      },
      "source": [
        "class Book :\n",
        "  def __init__(self,name,writer,ISBN=\"None\"):\n",
        "    self.name = name\n",
        "    self.writer = writer\n",
        "    self.setISBN = ISBN\n",
        "\n",
        "class Library :\n",
        "  def __init__(self,name):\n",
        "    self.name = \"Ayesha Abed Library\"\n",
        "\n",
        "  def addBook(self):\n",
        "    if self.setISBN == \"None\" :\n",
        "      print(\"A book without ISBN cannot be added\")\n",
        "    else :\n",
        "      print(\"Book with ISBN:\", self.setISBN, \"added\")\n",
        "\n",
        "  def printBooks(self):\n",
        "    print(\"Book name:\", self.name)\n",
        "    print(\"Writer:\", self.writer)\n",
        "    print(\"ISBN no:\", self.setISBN)\n",
        "\n",
        "\n",
        "#Write your code here\n",
        "obj = Library(\"Ayesha Abed Library\")\n",
        "b1 = Book(\"Teach yourself C\",\"Herbet Schildt\",\"0078823110\")\n",
        "print(\"=================================\")\n",
        "obj.addBook(b1)\n",
        "print(\"=================================\")\n",
        "obj.printBooks()\n",
        "print(\"=================================\")\n",
        "b2 = Book(\"Java:How to program\",\"Deitel & Deitel\")\n",
        "b3 = Book(\"Python Crash Course\",\"Eric Hatthes\",\"1593279280\")\n",
        "print(\"=================================\")\n",
        "obj.addBook(b2,b3)\n",
        "print(\"=================================\")\n",
        "obj.printBooks()\n",
        "print(\"=================================\")\n",
        "b2.setISBN(\"0134791401\")\n",
        "print(\"=================================\")\n",
        "obj.addBook(b2)\n",
        "print(\"=================================\")\n",
        "obj.printBooks()\n",
        "print(\"=================================\")\n",
        "b4 = Book(\"Automate the boring stuff with Python\",\"Al Sweigart\",\"1593279922\")\n",
        "b5 = Book(\"Teach yourself C++\",\"Herbet Schildt\",\"0078820251\")\n",
        "print(\"=================================\")\n",
        "obj.addBook(b4,b5)\n",
        "print(\"=================================\")\n",
        "obj.printBooks()\n",
        "print(\"=================================\")"
      ],
      "execution_count": 18,
      "outputs": [
        {
          "output_type": "stream",
          "name": "stdout",
          "text": [
            "=================================\n"
          ]
        },
        {
          "output_type": "error",
          "ename": "TypeError",
          "evalue": "ignored",
          "traceback": [
            "\u001b[0;31m---------------------------------------------------------------------------\u001b[0m",
            "\u001b[0;31mTypeError\u001b[0m                                 Traceback (most recent call last)",
            "\u001b[0;32m<ipython-input-18-aeac6d15e3d9>\u001b[0m in \u001b[0;36m<module>\u001b[0;34m()\u001b[0m\n\u001b[1;32m     25\u001b[0m \u001b[0mb1\u001b[0m \u001b[0;34m=\u001b[0m \u001b[0mBook\u001b[0m\u001b[0;34m(\u001b[0m\u001b[0;34m\"Teach yourself C\"\u001b[0m\u001b[0;34m,\u001b[0m\u001b[0;34m\"Herbet Schildt\"\u001b[0m\u001b[0;34m,\u001b[0m\u001b[0;34m\"0078823110\"\u001b[0m\u001b[0;34m)\u001b[0m\u001b[0;34m\u001b[0m\u001b[0;34m\u001b[0m\u001b[0m\n\u001b[1;32m     26\u001b[0m \u001b[0mprint\u001b[0m\u001b[0;34m(\u001b[0m\u001b[0;34m\"=================================\"\u001b[0m\u001b[0;34m)\u001b[0m\u001b[0;34m\u001b[0m\u001b[0;34m\u001b[0m\u001b[0m\n\u001b[0;32m---> 27\u001b[0;31m \u001b[0mobj\u001b[0m\u001b[0;34m.\u001b[0m\u001b[0maddBook\u001b[0m\u001b[0;34m(\u001b[0m\u001b[0mb1\u001b[0m\u001b[0;34m)\u001b[0m\u001b[0;34m\u001b[0m\u001b[0;34m\u001b[0m\u001b[0m\n\u001b[0m\u001b[1;32m     28\u001b[0m \u001b[0mprint\u001b[0m\u001b[0;34m(\u001b[0m\u001b[0;34m\"=================================\"\u001b[0m\u001b[0;34m)\u001b[0m\u001b[0;34m\u001b[0m\u001b[0;34m\u001b[0m\u001b[0m\n\u001b[1;32m     29\u001b[0m \u001b[0mobj\u001b[0m\u001b[0;34m.\u001b[0m\u001b[0mprintBooks\u001b[0m\u001b[0;34m(\u001b[0m\u001b[0;34m)\u001b[0m\u001b[0;34m\u001b[0m\u001b[0;34m\u001b[0m\u001b[0m\n",
            "\u001b[0;31mTypeError\u001b[0m: addBook() takes 1 positional argument but 2 were given"
          ]
        }
      ]
    }
  ]
}