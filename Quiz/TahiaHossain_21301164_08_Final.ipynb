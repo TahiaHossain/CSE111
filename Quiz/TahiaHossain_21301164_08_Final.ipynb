{
  "nbformat": 4,
  "nbformat_minor": 0,
  "metadata": {
    "colab": {
      "name": "TahiaHossain_21301164_08.ipynb",
      "provenance": []
    },
    "kernelspec": {
      "name": "python3",
      "display_name": "Python 3"
    },
    "language_info": {
      "name": "python"
    }
  },
  "cells": [
    {
      "cell_type": "code",
      "execution_count": null,
      "metadata": {
        "id": "jRj8Kz9ytkOO"
      },
      "outputs": [],
      "source": [
        "# FINAL\n",
        "\n",
        "# CSE 111\n",
        "# Name    : Tahia Hossain\n",
        "# ID      : 21301164\n",
        "# Section : 08"
      ]
    },
    {
      "cell_type": "code",
      "source": [
        "# TASK 1\n",
        "\n",
        "dict1={}\n",
        "list1=[]\n",
        "a=len(list1)\n",
        "i=1\n",
        "while True:\n",
        "    watch_name=input()\n",
        "    if watch_name!=\"STOP\":\n",
        "        brand,id1=list(watch_name.split(\" \"))\n",
        "        #list1.append(brand)\n",
        "        if brand not in dict1:\n",
        "            dict1[brand]=[\"1_\"+brand[0:2]+\"_\"+id1]\n",
        "        else:\n",
        "            n=1\n",
        "            n+=1\n",
        "            dict1[brand].append(str(n)+\"\"+brand[0:2]+\"\"+id1)\n",
        "    else:\n",
        "        print(dict1)\n",
        "        break"
      ],
      "metadata": {
        "colab": {
          "base_uri": "https://localhost:8080/"
        },
        "id": "Uf3OFw3lt0k0",
        "outputId": "89defd7c-daf1-4fcd-bef3-97798854a2d3"
      },
      "execution_count": 40,
      "outputs": [
        {
          "output_type": "stream",
          "name": "stdout",
          "text": [
            "Omega 10000\n",
            "Titan 5000\n",
            "STOP\n",
            "{'Omega': ['1_Om_10000'], 'Titan': ['1_Ti_5000']}\n"
          ]
        }
      ]
    },
    {
      "cell_type": "code",
      "source": [
        "# TASK 2\n",
        "\n",
        "class Laptop:\n",
        "  total_laptop = 0\n",
        "\n",
        "  def __init__(self,name,price=\"Not Set\"):\n",
        "    self.name = name\n",
        "    self.price = price\n",
        "    Laptop.total_laptop += 1\n",
        "    print(\"Laptop created.\")\n",
        "    print(\"Model:\", self.name)\n",
        "    print(\"Price:\", self.price)\n",
        "\n",
        "  def setPrice(self):\n",
        "    self.price = price\n",
        "\n",
        "class Store:\n",
        "  def __init__(self,store=\"Ryans\"):\n",
        "    self.store = store\n",
        "    print(\"Store Name:\", self.store)\n",
        "    print(\"List of available Laptops:\")\n",
        "    print(\"Model Name:\", self.name, \"--> Price:\", self.price)\n",
        "    print(\"Model Name:\", self.name, \"--> Price:\", self.price)\n",
        "    print(\"Total Laptop in Stock:\", Laptop.total_laptop)\n",
        "    print(\"Total Price of Stocked Laptops:\", )\n",
        "\n",
        "  def add_laptop(self):\n",
        "    if self.price != \"Not Set\":\n",
        "      print(self.name, \"has been added to\", self.store, \"store.\")\n",
        "    else :\n",
        "      print(\"You can not add,\", self.name, \"without price\")\n",
        "\n",
        "  def sell_laptop(self):\n",
        "    pass\n",
        "\n",
        "print(\"Total Laptop Created:\",Laptop.total_laptop)\n",
        "print(\"1.=========================================\")\n",
        "s1 = Store()\n",
        "p1 = Laptop(\"Lenovo B4180\", 55000)\n",
        "print(\"2.=========================================\")\n",
        "p2 = Laptop(\"HP Pavilion\")\n",
        "print(\"3.=========================================\")\n",
        "s1.add_laptop(p1, p2)\n",
        "print(\"4.=========================================\")\n",
        "p2.setPrice(77000)\n",
        "s1.add_laptop(p2)\n",
        "print(\"5.=========================================\")\n",
        "s1.sell_laptop(\"HP Probook\")\n",
        "print(\"6.=========================================\")\n",
        "print(s1)\n",
        "print(\"7.=========================================\")\n",
        "s2 = Store(\"Star Tech\")\n",
        "p3 = Laptop(\"HP Probook\", 58000)\n",
        "print(\"8.=========================================\")\n",
        "p4 = Laptop(\"Lenovo Thinkpad\", 60000)\n",
        "print(\"9.=========================================\")\n",
        "p5 = Laptop(\"HP Elite\", 80000)\n",
        "print(\"10.=========================================\")\n",
        "s2.add_laptop(p3, p4, p5)\n",
        "print(\"11.=========================================\")\n",
        "print(s2)\n",
        "print(\"12.=========================================\")\n",
        "s2.sell_laptop(\"HP Probook\")\n",
        "print(\"13.=========================================\")\n",
        "print(s2)\n",
        "print(\"14.=========================================\")\n",
        "print(\"Total Laptop Created:\",Laptop.total_laptop)"
      ],
      "metadata": {
        "colab": {
          "base_uri": "https://localhost:8080/",
          "height": 427
        },
        "id": "-uNEXKCRt5Ki",
        "outputId": "514dfd9e-2988-4104-af12-5ba5142f69d6"
      },
      "execution_count": 35,
      "outputs": [
        {
          "output_type": "stream",
          "name": "stdout",
          "text": [
            "Total Laptop Created: 0\n",
            "1.=========================================\n",
            "Store Name: Ryans\n",
            "List of available Laptops:\n"
          ]
        },
        {
          "output_type": "error",
          "ename": "AttributeError",
          "evalue": "ignored",
          "traceback": [
            "\u001b[0;31m---------------------------------------------------------------------------\u001b[0m",
            "\u001b[0;31mAttributeError\u001b[0m                            Traceback (most recent call last)",
            "\u001b[0;32m<ipython-input-35-199959fa81d4>\u001b[0m in \u001b[0;36m<module>\u001b[0;34m()\u001b[0m\n\u001b[1;32m     36\u001b[0m \u001b[0mprint\u001b[0m\u001b[0;34m(\u001b[0m\u001b[0;34m\"Total Laptop Created:\"\u001b[0m\u001b[0;34m,\u001b[0m\u001b[0mLaptop\u001b[0m\u001b[0;34m.\u001b[0m\u001b[0mtotal_laptop\u001b[0m\u001b[0;34m)\u001b[0m\u001b[0;34m\u001b[0m\u001b[0;34m\u001b[0m\u001b[0m\n\u001b[1;32m     37\u001b[0m \u001b[0mprint\u001b[0m\u001b[0;34m(\u001b[0m\u001b[0;34m\"1.=========================================\"\u001b[0m\u001b[0;34m)\u001b[0m\u001b[0;34m\u001b[0m\u001b[0;34m\u001b[0m\u001b[0m\n\u001b[0;32m---> 38\u001b[0;31m \u001b[0ms1\u001b[0m \u001b[0;34m=\u001b[0m \u001b[0mStore\u001b[0m\u001b[0;34m(\u001b[0m\u001b[0;34m)\u001b[0m\u001b[0;34m\u001b[0m\u001b[0;34m\u001b[0m\u001b[0m\n\u001b[0m\u001b[1;32m     39\u001b[0m \u001b[0mp1\u001b[0m \u001b[0;34m=\u001b[0m \u001b[0mLaptop\u001b[0m\u001b[0;34m(\u001b[0m\u001b[0;34m\"Lenovo B4180\"\u001b[0m\u001b[0;34m,\u001b[0m \u001b[0;36m55000\u001b[0m\u001b[0;34m)\u001b[0m\u001b[0;34m\u001b[0m\u001b[0;34m\u001b[0m\u001b[0m\n\u001b[1;32m     40\u001b[0m \u001b[0mprint\u001b[0m\u001b[0;34m(\u001b[0m\u001b[0;34m\"2.=========================================\"\u001b[0m\u001b[0;34m)\u001b[0m\u001b[0;34m\u001b[0m\u001b[0;34m\u001b[0m\u001b[0m\n",
            "\u001b[0;32m<ipython-input-35-199959fa81d4>\u001b[0m in \u001b[0;36m__init__\u001b[0;34m(self, store)\u001b[0m\n\u001b[1;32m     20\u001b[0m     \u001b[0mprint\u001b[0m\u001b[0;34m(\u001b[0m\u001b[0;34m\"Store Name:\"\u001b[0m\u001b[0;34m,\u001b[0m \u001b[0mself\u001b[0m\u001b[0;34m.\u001b[0m\u001b[0mstore\u001b[0m\u001b[0;34m)\u001b[0m\u001b[0;34m\u001b[0m\u001b[0;34m\u001b[0m\u001b[0m\n\u001b[1;32m     21\u001b[0m     \u001b[0mprint\u001b[0m\u001b[0;34m(\u001b[0m\u001b[0;34m\"List of available Laptops:\"\u001b[0m\u001b[0;34m)\u001b[0m\u001b[0;34m\u001b[0m\u001b[0;34m\u001b[0m\u001b[0m\n\u001b[0;32m---> 22\u001b[0;31m     \u001b[0mprint\u001b[0m\u001b[0;34m(\u001b[0m\u001b[0;34m\"Model Name:\"\u001b[0m\u001b[0;34m,\u001b[0m \u001b[0mself\u001b[0m\u001b[0;34m.\u001b[0m\u001b[0mname\u001b[0m\u001b[0;34m,\u001b[0m \u001b[0;34m\"--> Price:\"\u001b[0m\u001b[0;34m,\u001b[0m \u001b[0mself\u001b[0m\u001b[0;34m.\u001b[0m\u001b[0mprice\u001b[0m\u001b[0;34m)\u001b[0m\u001b[0;34m\u001b[0m\u001b[0;34m\u001b[0m\u001b[0m\n\u001b[0m\u001b[1;32m     23\u001b[0m     \u001b[0mprint\u001b[0m\u001b[0;34m(\u001b[0m\u001b[0;34m\"Model Name:\"\u001b[0m\u001b[0;34m,\u001b[0m \u001b[0mself\u001b[0m\u001b[0;34m.\u001b[0m\u001b[0mname\u001b[0m\u001b[0;34m,\u001b[0m \u001b[0;34m\"--> Price:\"\u001b[0m\u001b[0;34m,\u001b[0m \u001b[0mself\u001b[0m\u001b[0;34m.\u001b[0m\u001b[0mprice\u001b[0m\u001b[0;34m)\u001b[0m\u001b[0;34m\u001b[0m\u001b[0;34m\u001b[0m\u001b[0m\n\u001b[1;32m     24\u001b[0m     \u001b[0mprint\u001b[0m\u001b[0;34m(\u001b[0m\u001b[0;34m\"Total Laptop in Stock:\"\u001b[0m\u001b[0;34m,\u001b[0m \u001b[0mLaptop\u001b[0m\u001b[0;34m.\u001b[0m\u001b[0mtotal_laptop\u001b[0m\u001b[0;34m)\u001b[0m\u001b[0;34m\u001b[0m\u001b[0;34m\u001b[0m\u001b[0m\n",
            "\u001b[0;31mAttributeError\u001b[0m: 'Store' object has no attribute 'name'"
          ]
        }
      ]
    },
    {
      "cell_type": "code",
      "source": [
        "# TASK 3\n",
        "\n",
        "class Person:\n",
        "  def __init__(self, name, contact):\n",
        "    self.name = name\n",
        "    self.contact = contact\n",
        " \n",
        "  def __str__(self):\n",
        "    s = f\"Name: {self.name}\\nContact: {self.contact}\"\n",
        "    return s\n",
        "\n",
        "#Write your code here\n",
        "\n",
        "class Student(Person):\n",
        "  def __init__(self,name,contact,ID,dept):\n",
        "    super().__init__(name,contact)\n",
        "    self.ID = ID\n",
        "    self.dept = dept\n",
        "\n",
        "  def add_courses(self,*course):\n",
        "    self.course = course\n",
        "\n",
        "  def show_course_list(self,course):\n",
        "    print(\"Courses from\", self.dept, \"department:\")\n",
        "    for course in self.course:\n",
        "      if self.dept == self.course[0]:\n",
        "        print(course)\n",
        "      else :\n",
        "        print(self.name, \"did not take any course from\", self.dept, \"department\")\n",
        "\n",
        "  def __str__(self):\n",
        "    out = \"Students Details:\" + \"\\n\" + super().__str__() + \"\\n\" + \"ID: \" + str(self.ID) + \"\\n\" + \"Department: \" + self.dept + \"\\n\" + \"Courses List:\"\n",
        "    return out\n",
        "\n",
        "class Lawyer(Person):\n",
        "  def __init__(self,name,contact,area):\n",
        "    super().__init__(name,contact)\n",
        "    self.area = area\n",
        "\n",
        "  def add_client(self,a_list=[]):\n",
        "    for i in a_list :\n",
        "      print(i)\n",
        "\n",
        " \n",
        "john_cena = Student(\"John Cena\", \"9752325\", 100005, \"CSE\")\n",
        "john_cena.add_courses(\"CSE111 Programming Language II\", \"CSE230 Discrete Mathematics\", \"EEE101 Electrical Circuits 1\")\n",
        "print(\"1.=========================================================\")\n",
        "print(john_cena)\n",
        "print(\"2.=========================================================\")\n",
        "john_cena.show_course_list(\"CSE\")\n",
        "print(\"3.=========================================================\")\n",
        "john_cena.show_course_list(\"ECE\")\n",
        "print(\"4.=========================================================\")\n",
        "john_cena.add_courses(\"ARC101 Design I: Basic Design\")\n",
        "print(\"5.=========================================================\")\n",
        "print(john_cena)\n",
        "print(\"6.=========================================================\")\n",
        "saul_goodman = Lawyer(\"Saul Goodman\", \"5885858\", \"Dhaka\")\n",
        "saul_goodman.add_client(\"Jesse Pinkman Criminal\", \"Walter White Criminal\", \"John Cena Civil\", \"Naruto Uzumaki Civil\")\n",
        "print(\"7.=========================================================\")\n",
        "print(saul_goodman)"
      ],
      "metadata": {
        "colab": {
          "base_uri": "https://localhost:8080/",
          "height": 687
        },
        "id": "OuFlw1T8t7ZQ",
        "outputId": "d0b3a92c-b871-4505-b00b-3b4a2e741d3b"
      },
      "execution_count": 34,
      "outputs": [
        {
          "output_type": "stream",
          "name": "stdout",
          "text": [
            "1.=========================================================\n",
            "Students Details:\n",
            "Name: John Cena\n",
            "Contact: 9752325\n",
            "ID: 100005\n",
            "Department: CSE\n",
            "Courses List:\n",
            "2.=========================================================\n",
            "Courses from CSE department:\n",
            "John Cena did not take any course from CSE department\n",
            "John Cena did not take any course from CSE department\n",
            "John Cena did not take any course from CSE department\n",
            "3.=========================================================\n",
            "Courses from CSE department:\n",
            "John Cena did not take any course from CSE department\n",
            "John Cena did not take any course from CSE department\n",
            "John Cena did not take any course from CSE department\n",
            "4.=========================================================\n",
            "5.=========================================================\n",
            "Students Details:\n",
            "Name: John Cena\n",
            "Contact: 9752325\n",
            "ID: 100005\n",
            "Department: CSE\n",
            "Courses List:\n",
            "6.=========================================================\n"
          ]
        },
        {
          "output_type": "error",
          "ename": "TypeError",
          "evalue": "ignored",
          "traceback": [
            "\u001b[0;31m---------------------------------------------------------------------------\u001b[0m",
            "\u001b[0;31mTypeError\u001b[0m                                 Traceback (most recent call last)",
            "\u001b[0;32m<ipython-input-34-58823d1fcb85>\u001b[0m in \u001b[0;36m<module>\u001b[0;34m()\u001b[0m\n\u001b[1;32m     57\u001b[0m \u001b[0mprint\u001b[0m\u001b[0;34m(\u001b[0m\u001b[0;34m\"6.=========================================================\"\u001b[0m\u001b[0;34m)\u001b[0m\u001b[0;34m\u001b[0m\u001b[0;34m\u001b[0m\u001b[0m\n\u001b[1;32m     58\u001b[0m \u001b[0msaul_goodman\u001b[0m \u001b[0;34m=\u001b[0m \u001b[0mLawyer\u001b[0m\u001b[0;34m(\u001b[0m\u001b[0;34m\"Saul Goodman\"\u001b[0m\u001b[0;34m,\u001b[0m \u001b[0;34m\"5885858\"\u001b[0m\u001b[0;34m,\u001b[0m \u001b[0;34m\"Dhaka\"\u001b[0m\u001b[0;34m)\u001b[0m\u001b[0;34m\u001b[0m\u001b[0;34m\u001b[0m\u001b[0m\n\u001b[0;32m---> 59\u001b[0;31m \u001b[0msaul_goodman\u001b[0m\u001b[0;34m.\u001b[0m\u001b[0madd_client\u001b[0m\u001b[0;34m(\u001b[0m\u001b[0;34m\"Jesse Pinkman Criminal\"\u001b[0m\u001b[0;34m,\u001b[0m \u001b[0;34m\"Walter White Criminal\"\u001b[0m\u001b[0;34m,\u001b[0m \u001b[0;34m\"John Cena Civil\"\u001b[0m\u001b[0;34m,\u001b[0m \u001b[0;34m\"Naruto Uzumaki Civil\"\u001b[0m\u001b[0;34m)\u001b[0m\u001b[0;34m\u001b[0m\u001b[0;34m\u001b[0m\u001b[0m\n\u001b[0m\u001b[1;32m     60\u001b[0m \u001b[0mprint\u001b[0m\u001b[0;34m(\u001b[0m\u001b[0;34m\"7.=========================================================\"\u001b[0m\u001b[0;34m)\u001b[0m\u001b[0;34m\u001b[0m\u001b[0;34m\u001b[0m\u001b[0m\n\u001b[1;32m     61\u001b[0m \u001b[0mprint\u001b[0m\u001b[0;34m(\u001b[0m\u001b[0msaul_goodman\u001b[0m\u001b[0;34m)\u001b[0m\u001b[0;34m\u001b[0m\u001b[0;34m\u001b[0m\u001b[0m\n",
            "\u001b[0;31mTypeError\u001b[0m: add_client() takes from 1 to 2 positional arguments but 5 were given"
          ]
        }
      ]
    }
  ]
}