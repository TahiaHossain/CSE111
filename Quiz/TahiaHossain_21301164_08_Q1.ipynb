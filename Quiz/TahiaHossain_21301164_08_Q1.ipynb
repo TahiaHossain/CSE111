{
  "nbformat": 4,
  "nbformat_minor": 0,
  "metadata": {
    "colab": {
      "name": "TahiaHossain_21301164_08.ipynb",
      "provenance": []
    },
    "kernelspec": {
      "name": "python3",
      "display_name": "Python 3"
    },
    "language_info": {
      "name": "python"
    }
  },
  "cells": [
    {
      "cell_type": "markdown",
      "metadata": {
        "id": "sUumxHtNec7d"
      },
      "source": [
        "𝗤𝘂𝗲𝘀𝘁𝗶𝗼𝗻:\n",
        "Write a python program that will take N as input from the user and then \n",
        "take N lines of input from the user. Each line will contain a tennis player \n",
        "name, year and tournament name that he won that year. Store each player's \n",
        "championship information in a dictionary where the key will be the player \n",
        "name and corresponding value will be a list containing all the tournaments \n",
        "the player won along with the year of the tournament.\n",
        "\n",
        "\n",
        "Sample Input 1:\n",
        "6\n",
        "2021 AustralianOpen Djokovic\n",
        "2021 FrenchOpen Djokovic\n",
        "2020 FrenchOpen Nadal\n",
        "2020 USOpen Dominic\n",
        "2020 AustralianOpen Djokovic\n",
        "2019 USOpen Nadal\n",
        "\n",
        "Sample Output 1 (No need to follow this output format. Just print the \n",
        "resultant dictionary. )\n",
        "\n",
        "{\n",
        "'Djokovic':\n",
        "{\n",
        "2021:['AustralianOpen','FrenchOpen'],\n",
        "2020:['AustralianOpen']\n",
        "},\n",
        "'Nadal':\n",
        "{\n",
        "2020:['FrenchOpen'],\n",
        "2019: ['USOpen']\n",
        "},\n",
        "'Dominic':\n",
        "{\n",
        "2020:['USOpen']\n",
        "}\n",
        "}\n"
      ]
    },
    {
      "cell_type": "code",
      "metadata": {
        "colab": {
          "base_uri": "https://localhost:8080/"
        },
        "id": "CIED2pjImaqo",
        "outputId": "fc0f4d9b-88db-4578-be52-6daf793f44b1"
      },
      "source": [
        "N = int(input(\"Please enter the number of lines: \"))\n",
        "\n",
        "dict = {}\n",
        "\n",
        "for i in range(N):\n",
        "    inp = input(\"Please enter the string\")\n",
        "    inp = inp.split(' ')\n",
        "\n",
        "    if inp[2] in dict:\n",
        "        if inp[0] in dict[inp[2]]:\n",
        "            dict[inp[2]][inp[0]].append(inp[1])\n",
        "        else:\n",
        "            dict[inp[2]][inp[0]] = [ inp[1] ]\n",
        "    else:\n",
        "        dict[inp[2]] = {}\n",
        "        dict[inp[2]][inp[0]] = [inp[1]]\n",
        "\n",
        "print(dict)"
      ],
      "execution_count": 7,
      "outputs": [
        {
          "output_type": "stream",
          "name": "stdout",
          "text": [
            "6\n",
            "2021 AustralianOpen Djokovic\n",
            "2021 FrenchOpen Djokovic\n",
            "2020 FrenchOpen Nadal\n",
            "2020 USOpen Dominic\n",
            "2020 AustralianOpen Djokovic\n",
            "2019 USOpen Nadal\n",
            "{'Djokovic': {'2021': ['AustralianOpen', 'FrenchOpen'], '2020': ['AustralianOpen']}, 'Nadal': {'2020': ['FrenchOpen'], '2019': ['USOpen']}, 'Dominic': {'2020': ['USOpen']}}\n"
          ]
        }
      ]
    }
  ]
}