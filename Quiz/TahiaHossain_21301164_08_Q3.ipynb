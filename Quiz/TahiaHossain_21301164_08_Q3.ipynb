{
  "nbformat": 4,
  "nbformat_minor": 0,
  "metadata": {
    "colab": {
      "name": "TahiaHossain_21301164_08.ipynb",
      "provenance": []
    },
    "kernelspec": {
      "name": "python3",
      "display_name": "Python 3"
    },
    "language_info": {
      "name": "python"
    }
  },
  "cells": [
    {
      "cell_type": "code",
      "execution_count": null,
      "metadata": {
        "id": "EVzIozF8xqfv"
      },
      "outputs": [],
      "source": [
        "# QUIZ 3\n",
        "\n",
        "# CSE 111\n",
        "# Name    : Tahia Hossain\n",
        "# ID      : 21301164\n",
        "# Section : 08"
      ]
    },
    {
      "cell_type": "code",
      "source": [
        "class DemonSlayer:\n",
        "  \n",
        "  count = 0\n",
        "  \n",
        "  def __init__(self,name,age,style,kill):\n",
        "    self.name = name\n",
        "    self.age = age\n",
        "    self.style = style\n",
        "    self.kill = kill\n",
        "\n",
        "    DemonSlayer.count += 1\n",
        "    \n",
        "  def addKill(self,add):\n",
        "    self.kill = self.kill + add\n",
        "    \n",
        "  def dismissKill(self,reduce):\n",
        "    if self.kill - reduce > 0 :\n",
        "      self.kill = self.kill - reduce\n",
        "    else:\n",
        "      self.kill = self.kill\n",
        "\n",
        "  def printDetails(self):\n",
        "    print(\"Name:\", self.name)\n",
        "    print(\"Age:\", self.age)\n",
        "    print(\"Style:\", self.style)\n",
        "    print(\"Total Kill:\", self.kill)\n",
        "\n",
        "\n",
        "# Write your code here\n",
        " \n",
        "print('No of demon slayers:', DemonSlayer.count)\n",
        "print(\"=========================\")\n",
        "d1 = DemonSlayer(\"Tanjiro\", 15, \"Water Breathing\", 100)\n",
        "d1.addKill(20)\n",
        "d1.printDetails()\n",
        "print(\"=========================\")\n",
        "d2 = DemonSlayer(\"Rengoku\", 20, \"Flame Breathing\", 1000)\n",
        "d2.dismissKill(50)\n",
        "d2.printDetails()\n",
        "print(\"=========================\")\n",
        "d3 = DemonSlayer(\"Zenitsu\", 16, \"Thunder Breathing\", 80)\n",
        "d3.dismissKill(100)\n",
        "d3.printDetails()\n",
        "print(\"=========================\") \n",
        "print('No of demon slayers:', DemonSlayer.count)"
      ],
      "metadata": {
        "colab": {
          "base_uri": "https://localhost:8080/"
        },
        "id": "RjDi2BUa1nQH",
        "outputId": "4c8ffd64-aa8f-44eb-b596-2262d28a52f4"
      },
      "execution_count": 5,
      "outputs": [
        {
          "output_type": "stream",
          "name": "stdout",
          "text": [
            "No of demon slayers: 0\n",
            "=========================\n",
            "Name: Tanjiro\n",
            "Age: 15\n",
            "Style: Water Breathing\n",
            "Total Kill: 120\n",
            "=========================\n",
            "Name: Rengoku\n",
            "Age: 20\n",
            "Style: Flame Breathing\n",
            "Total Kill: 950\n",
            "=========================\n",
            "Name: Zenitsu\n",
            "Age: 16\n",
            "Style: Thunder Breathing\n",
            "Total Kill: 80\n",
            "=========================\n",
            "No of demon slayers: 3\n"
          ]
        }
      ]
    }
  ]
}