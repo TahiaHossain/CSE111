{
  "nbformat": 4,
  "nbformat_minor": 0,
  "metadata": {
    "colab": {
      "name": "TahiaHossain_21301164_08.ipynb",
      "provenance": []
    },
    "kernelspec": {
      "name": "python3",
      "display_name": "Python 3"
    },
    "language_info": {
      "name": "python"
    }
  },
  "cells": [
    {
      "cell_type": "code",
      "execution_count": null,
      "metadata": {
        "id": "nyUoUypR2Kec"
      },
      "outputs": [],
      "source": [
        "# QUIZ 4\n",
        "\n",
        "# CSE 111\n",
        "# Name    : Tahia Hossain\n",
        "# ID      : 21301164\n",
        "# Section : 08"
      ]
    },
    {
      "cell_type": "code",
      "source": [
        "class Actor:\n",
        "  def __init__(self, name, rating, industry):\n",
        "    self.name = name\n",
        "    self.rating = rating\n",
        "    self.industry = industry\n",
        "  \n",
        "  def add_movie(self, *info):\n",
        "    pass\n",
        " \n",
        "  def __str__(self):\n",
        "    s = f\"Name: {self.name}\\nRating: {self.rating}\\nIndustry: {self.industry}\"\n",
        "    return s\n",
        " \n",
        "# Write your codes here.\n",
        "\n",
        "class TomCruise(Actor):\n",
        "  def __init__(self,name,rating,industry,oscar):\n",
        "    super().__init__(name,rating,industry)\n",
        "    self.oscar = oscar\n",
        "\n",
        "  def add_movie(self,*info):\n",
        "    self.info = info\n",
        "\n",
        "  def oscar_status(self):\n",
        "    status = \"Tom Cruise has won \" + str(self.oscar) + \" Oscar(s)!!!\"\n",
        "    return status\n",
        "\n",
        "  def __str__(self):\n",
        "    obj = \"Actor Details: \" + \"\\n\" + super().__str__() + \"\\n\" + \"Oscar Win: \" + str(self.oscar) + \"\\n\" + \"Movies:\" + \"\\n\" + \"Action:\" + \"\\n\" + \"Romance: \" + \"\\n\" + \"Thriller: \"\n",
        "    return obj\n",
        "\n",
        "class DulquerSalman(Actor):\n",
        "  def __init__(self,name,rating,industry,award):\n",
        "    super().__init__(name,rating,industry)\n",
        "    self.award = award\n",
        "\n",
        "  def add_movie(self,*info):\n",
        "    self.info = info\n",
        "\n",
        "  def award_status(self):\n",
        "    status = \"Dulquer Salman has won \" + str(self.award) + \" award(s)!!!\"\n",
        "    return status\n",
        "\n",
        "  def __str__(self):\n",
        "    dic = {}\n",
        "    obj = \"Actor Details: \" + \"\\n\" + super().__str__() + \"\\n\" + \"Award Win: \" + str(self.award) + \"\\n\" + \"Movies:\" + \"\\n\" + \"Thriller: \" + \"\\n\" + \"Romance: \" + \"\\n\" + \"Action: \"\n",
        "    return obj\n",
        "\n",
        "\n",
        "tom_cruise = TomCruise(\"Tom Cruise\", 9.5, \"Hollywood\", 0)\n",
        "tom_cruise.add_movie(\"Knight & Day\", \"Action\", \"Top Gun\", \"Action\", \"Jerry Maguire\", \"Romance\", \"Jack Reacher\", \"Thriller\", \"The Firm\", \"Thriller\")\n",
        "print('1.------------------------------------')\n",
        "print(tom_cruise.oscar_status())\n",
        "print('2.------------------------------------')\n",
        "print(tom_cruise)\n",
        "print('3.====================================')\n",
        "dulquer_salman = DulquerSalman(\"Dulquer Salman\", 9, \"Malayalam\", 5)\n",
        "dulquer_salman.add_movie(\"Thriller\", \"Bangalore Days\", \"Romance\", \"Ustad Hotel\", \"Thriller\", \"Charlie\", \"Action\", \"Kurup\", \"Action\", \"Vikramadithyan\")\n",
        "print('4.------------------------------------')\n",
        "print(dulquer_salman.award_status())\n",
        "print('5.------------------------------------')\n",
        "print(dulquer_salman)"
      ],
      "metadata": {
        "colab": {
          "base_uri": "https://localhost:8080/"
        },
        "id": "vT-PAiNO2686",
        "outputId": "c3ed4a57-7916-428a-8e10-70c6cb791524"
      },
      "execution_count": 14,
      "outputs": [
        {
          "output_type": "stream",
          "name": "stdout",
          "text": [
            "1.------------------------------------\n",
            "Tom Cruise has won 0 Oscar(s)!!!\n",
            "2.------------------------------------\n",
            "Actor Details: \n",
            "Name: Tom Cruise\n",
            "Rating: 9.5\n",
            "Industry: Hollywood\n",
            "Oscar Win: 0\n",
            "Movies:\n",
            "Action:\n",
            "Romance: \n",
            "Thriller: \n",
            "3.====================================\n",
            "4.------------------------------------\n",
            "Dulquer Salman has won 5 award(s)!!!\n",
            "5.------------------------------------\n",
            "Actor Details: \n",
            "Name: Dulquer Salman\n",
            "Rating: 9\n",
            "Industry: Malayalam\n",
            "Award Win: 5\n",
            "Movies:\n",
            "Thriller: \n",
            "Romance: \n",
            "Action: \n"
          ]
        }
      ]
    }
  ]
}