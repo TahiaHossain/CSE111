{
  "nbformat": 4,
  "nbformat_minor": 0,
  "metadata": {
    "colab": {
      "name": "Assignment 02_21301164_TahiaHossain.ipynb",
      "provenance": [],
      "collapsed_sections": []
    },
    "kernelspec": {
      "display_name": "Python 3",
      "name": "python3"
    },
    "language_info": {
      "name": "python"
    }
  },
  "cells": [
    {
      "cell_type": "code",
      "metadata": {
        "id": "JMCciLBmJjCY"
      },
      "source": [
        "# CSE 111 : Lab Assignment 2\n",
        "# Name    : Tahia Hossain\n",
        "# ID      : 21301164\n",
        "# Section : 08"
      ],
      "execution_count": null,
      "outputs": []
    },
    {
      "cell_type": "code",
      "metadata": {
        "colab": {
          "base_uri": "https://localhost:8080/"
        },
        "id": "xPwvcoWKILHN",
        "outputId": "dc6be30e-4818-44de-c107-6e0f2125fbb7"
      },
      "source": [
        "# Task 1\n",
        "\n",
        "num1 = int(input(\"PLease enter the first number: \"))\n",
        "num2 = int(input(\"Please enter the second number: \"))\n",
        "\n",
        "def my_fraction(num1,num2) :\n",
        "  if num1 == 0 or num2 == 0 :\n",
        "    return 0\n",
        "  else :\n",
        "    return (num1 / num2) - (num1 // num2)\n",
        "\n",
        "print(\"Output is:\", my_fraction(num1,num2))"
      ],
      "execution_count": null,
      "outputs": [
        {
          "name": "stdout",
          "output_type": "stream",
          "text": [
            "PLease enter the first number: 0\n",
            "Please enter the second number: 6\n",
            "Output is: 0\n"
          ]
        }
      ]
    },
    {
      "cell_type": "code",
      "metadata": {
        "colab": {
          "base_uri": "https://localhost:8080/"
        },
        "id": "iAxT6LlNjlfp",
        "outputId": "a911ff09-0530-4579-fd18-23a095a6b864"
      },
      "source": [
        "# Task 2\n",
        "\n",
        "h = int(input(\"Please enter the height (cm): \"))\n",
        "weight = int(input(\"PLease enter the weight (kg): \"))\n",
        "\n",
        "def func(h,weight) :\n",
        "  height = h / 100\n",
        "  bmi = weight / (height*height)\n",
        "  print(\"Score is %.1f\"%(bmi), end = \". \")\n",
        "\n",
        "  a = 18.5\n",
        "  b = 24.9\n",
        "  c = 25\n",
        "  d = 30\n",
        "\n",
        "  if bmi < a :\n",
        "    print(\"You are Underweight\")\n",
        "  elif a <= bmi <= b :\n",
        "    print(\"You are Normal\")\n",
        "  elif c <= bmi <= d :\n",
        "    print(\"You are Overweight\")\n",
        "  elif bmi > d :\n",
        "    print(\"You are Obese\")\n",
        "\n",
        "func(h,weight)"
      ],
      "execution_count": null,
      "outputs": [
        {
          "name": "stdout",
          "output_type": "stream",
          "text": [
            "Please enter the height (cm): 176\n",
            "PLease enter the weight (kg): 95\n",
            "Score is 30.7. You are Obese\n"
          ]
        }
      ]
    },
    {
      "cell_type": "code",
      "metadata": {
        "colab": {
          "base_uri": "https://localhost:8080/"
        },
        "id": "daheu7oKi95a",
        "outputId": "90aa91aa-11bd-4a2e-ccb7-0558aa3b79ad"
      },
      "source": [
        "# Task 3\n",
        "\n",
        "min = int(input(\"Pls enter the minimum value: \"))\n",
        "max = int(input(\"Pls enter the maximum value: \"))\n",
        "divisor = int(input(\"Pls enter the required divisor: \"))\n",
        "\n",
        "def func(min,max,divisor) :\n",
        "  sum = 0\n",
        "  for num in range(min,max) :\n",
        "    if num % divisor == 0 :\n",
        "      sum = sum + num\n",
        "  return sum\n",
        "\n",
        "print(\"Output:\", func(min,max,divisor))"
      ],
      "execution_count": null,
      "outputs": [
        {
          "name": "stdout",
          "output_type": "stream",
          "text": [
            "Pls enter the minimum value: 0\n",
            "Pls enter maximum value: 10\n",
            "Pls enter the required divisor: 2\n",
            "Output: 20\n"
          ]
        }
      ]
    },
    {
      "cell_type": "code",
      "metadata": {
        "colab": {
          "base_uri": "https://localhost:8080/"
        },
        "id": "JEtVkuYhYmFZ",
        "outputId": "e44956b5-71fd-42f6-dcb3-dfd06be56b3b"
      },
      "source": [
        "# Task 4\n",
        "\n",
        "name = input(\"Pls enter your desired meal: \")\n",
        "place = input(\"Pls enter ypur location: \")\n",
        "\n",
        "def chillox(name,place):\n",
        "  if name == 'BBQ Chicken Cheese Burger' :\n",
        "    meal_cost = 250\n",
        "  if name == 'Beef Burger' :\n",
        "    meal_cost = 170\n",
        "  if name == 'Naga Drums' :\n",
        "    meal_cost = 200\n",
        "  \n",
        "  sum = 0\n",
        "\n",
        "  if place == \"Mohakhali\" :\n",
        "    sum = meal_cost + (8/100)*meal_cost + 40\n",
        "  elif place == \"\" :\n",
        "    sum = meal_cost + (8/100)*meal_cost + 40\n",
        "  else :\n",
        "    sum = meal_cost + (8/100)*meal_cost + 60\n",
        "  \n",
        "  print(\"Total price:\", sum)\n",
        "\n",
        "chillox(name,place)"
      ],
      "execution_count": null,
      "outputs": [
        {
          "name": "stdout",
          "output_type": "stream",
          "text": [
            "Pls enter your desired meal: Beef Burger\n",
            "Pls enter ypur location: Dhanmondi\n",
            "Total price: 243.6\n"
          ]
        }
      ]
    },
    {
      "cell_type": "code",
      "metadata": {
        "colab": {
          "base_uri": "https://localhost:8080/"
        },
        "id": "H-oiFjg8F9Lx",
        "outputId": "6bedafb7-f1f3-48b8-a6ce-77ce8caf3d8c"
      },
      "source": [
        "# Task 5\n",
        "\n",
        "email = input(\"Please enter the email: \")\n",
        "new_dom = input(\"Please enter the new domain: \")\n",
        "old_dom = input(\"Please enter the old domain: \")\n",
        "\n",
        "def replace_domain(email,new_dom,old_dom=\"None\"):\n",
        "  if old_dom == \"None\" or old_dom == \"\" :\n",
        "    print(\"Unchanged:\", email)\n",
        "  else :\n",
        "    my_list = email.split(\"@\")\n",
        "    up_email = my_list[0] + \"@\" + new_dom\n",
        "    print(\"Changed:\", up_email)\n",
        "\n",
        "replace_domain(email,new_dom,old_dom)"
      ],
      "execution_count": 39,
      "outputs": [
        {
          "output_type": "stream",
          "name": "stdout",
          "text": [
            "Please enter the email: bob@kaaj.com\n",
            "Please enter the new domain: sheba.com\n",
            "Please enter the old domain: kaaj.com\n",
            "Changed: bob@sheba.com\n"
          ]
        }
      ]
    },
    {
      "cell_type": "code",
      "metadata": {
        "colab": {
          "base_uri": "https://localhost:8080/"
        },
        "id": "bKedrvELavii",
        "outputId": "90e6ddc2-32da-4387-fd67-d6881058dac5"
      },
      "source": [
        "# Task 6\n",
        "\n",
        "string1 = input(\"Pls enter your full name: \")\n",
        "\n",
        "def vowel(string1) :\n",
        "  str1 = \"aeiouAEIOU\"\n",
        "  count = \"\"\n",
        "  result = \"\"\n",
        "  my_list = []\n",
        "\n",
        "  #if len(my_list) == 0 :\n",
        "    #print(\"No vowels in the name\")\n",
        "  #else :\n",
        "  for ch in string1 :\n",
        "      #print(ch)\n",
        "    if ch in str1 :                  #it checks if the chr is a vowel\n",
        "      result = result + ch + \",\"\n",
        "  result = result[:-1]\n",
        "  print(\"Vowels: \" + result + \". Total number of vowels: \" + str(len(my_list)))\n",
        "  #if len(my_list) == 0 :\n",
        "    #print(\"No vowels in the name\")\n",
        "      #print(ch)\n",
        "      #my_list.append(ch)\n",
        "  \n",
        "  #if len(my_list) == 0 :\n",
        "    #print(\"No vowels in the name\")\n",
        "  #else :\n",
        "    #for ch1 in my_list :\n",
        "      #count = count + ch1\n",
        "    #for x in range(len(count)) :\n",
        "      #result = result + count[x] + \"\"\n",
        "    #result = result + count[len(count)-1]\n",
        "    #print(\"Vowels:\", result, \". Total number of vowels:\", len(my_list))\n",
        "    #print(my_list)\n",
        "    \n",
        "vowel(string1)"
      ],
      "execution_count": 50,
      "outputs": [
        {
          "output_type": "stream",
          "name": "stdout",
          "text": [
            "Pls enter your full name: tahia\n",
            "Vowels: a,i,a. Total number of vowels: 0\n"
          ]
        }
      ]
    },
    {
      "cell_type": "code",
      "metadata": {
        "colab": {
          "base_uri": "https://localhost:8080/"
        },
        "id": "nskhbDLLaxgy",
        "outputId": "756998c4-69c9-494b-c7ec-940a0d0ee9f6"
      },
      "source": [
        "# Task 7\n",
        "\n",
        "#user_input = input(\"Pls enter a string: \").split(\" \")\n",
        "\n",
        "user_input = input(\"Please enter a string: \")\n",
        "\n",
        "def palindrome(string1):\n",
        "    word = ''\n",
        "    for ch in string1:\n",
        "        if ch == ' ':\n",
        "            continue\n",
        "        else:\n",
        "            word = word + ch\n",
        "\n",
        "    reverse = word[::-1]\n",
        "\n",
        "    if word == reverse:\n",
        "        return 'Palindrome'\n",
        "    else:\n",
        "        return 'Not a palindrome'\n",
        "\n",
        "print(palindrome(user_input))\n",
        "\n",
        "\n",
        "#def function(word):\n",
        "  #if len(word) == 1 :\n",
        "    #s1 = word[0][::-1]      # another way, try later\n",
        "    #if s1 = word[0]:\n",
        "      #return \"Palindrome\"\n",
        "    #else :\n",
        "      #return \"Not a palindrome\"\n",
        "\n",
        "  #else :\n",
        "\n",
        "  #if word == s1 :\n",
        "    #return \"Palindrome\" \n",
        "  #else :\n",
        "    #return \"Not a palindrome\"\n",
        "\n",
        "#update = \"\"\n",
        "\n",
        "#for ch in user_input :\n",
        "  #if ch == \"\" :\n",
        "    #pass\n",
        "  #else :\n",
        "    #update = update + ch\n",
        "\n",
        "#print(function(update))"
      ],
      "execution_count": 36,
      "outputs": [
        {
          "output_type": "stream",
          "name": "stdout",
          "text": [
            "Please enter a string: nurses run\n",
            "Palindrome\n"
          ]
        }
      ]
    },
    {
      "cell_type": "code",
      "metadata": {
        "colab": {
          "base_uri": "https://localhost:8080/"
        },
        "id": "-NDpQTgYay_v",
        "outputId": "4618e599-2fce-4275-a829-566c2a744973"
      },
      "source": [
        "# Task 8\n",
        "\n",
        "user_input = int(input(\"Please enter the number of days: \"))\n",
        "\n",
        "def function(day):\n",
        "  year = day // 365\n",
        "  month = (day % 365) // 30\n",
        "  n_day = (day % 365) % 30\n",
        "  \n",
        "  print(f\"Output: {year} years, {month} months and {n_day} days\")\n",
        "\n",
        "function(user_input)"
      ],
      "execution_count": 24,
      "outputs": [
        {
          "output_type": "stream",
          "name": "stdout",
          "text": [
            "Please enter the number of days: 4000\n",
            "Output: 10 years, 11 months and 20 days\n"
          ]
        }
      ]
    },
    {
      "cell_type": "code",
      "metadata": {
        "colab": {
          "base_uri": "https://localhost:8080/"
        },
        "id": "wbf8UzXBa0lf",
        "outputId": "c308c5af-9e3e-4097-d0e0-71d43304bb36"
      },
      "source": [
        "# Task 9\n",
        "\n",
        "user_input = input(\"Please enter your string: \")\n",
        "\n",
        "def punc(sentence):\n",
        "  ans = True\n",
        "  result = \"\"\n",
        "\n",
        "  for ch in range(len(sentence)):\n",
        "    if ans :\n",
        "      if sentence[ch].isalpha() :\n",
        "        result = result + sentence[ch].upper()\n",
        "        ans = False\n",
        "      else :\n",
        "        result = result + sentence[ch]\n",
        "    elif sentence[ch] in \".!?\" :\n",
        "      result += sentence[ch]\n",
        "      ans = True\n",
        "    elif sentence[ch] == \"i\" :\n",
        "      if sentence[ch-1] == \" \" and sentence[ch+1] in \".!?\" :\n",
        "        result += sentence[ch].upper()\n",
        "      else :\n",
        "        result += sentence[ch]\n",
        "    else :\n",
        "      result += sentence[ch]\n",
        "  return result\n",
        "\n",
        "print(punc(user_input))"
      ],
      "execution_count": 26,
      "outputs": [
        {
          "output_type": "stream",
          "name": "stdout",
          "text": [
            "Please enter your string: my favourite animal is a dog. a dog has sharp teeth so that it can eat flesh very easily. do you know my pet dog’s name? i love my pet very much.\n",
            "My favourite animal is a dog. A dog has sharp teeth so that it can eat flesh very easily. Do you know my pet dog’s name? I love my pet very much.\n"
          ]
        }
      ]
    }
  ]
}