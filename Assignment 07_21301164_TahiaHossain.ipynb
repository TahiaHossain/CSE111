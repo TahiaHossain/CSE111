{
  "nbformat": 4,
  "nbformat_minor": 0,
  "metadata": {
    "colab": {
      "name": "Assignment 07_21301164_TahiaHossain.ipynb",
      "provenance": [],
      "collapsed_sections": []
    },
    "kernelspec": {
      "name": "python3",
      "display_name": "Python 3"
    },
    "language_info": {
      "name": "python"
    }
  },
  "cells": [
    {
      "cell_type": "code",
      "execution_count": null,
      "metadata": {
        "id": "H8wMpy5rBqCz"
      },
      "outputs": [],
      "source": [
        "# CSE 111 : Lab Assignment 7\n",
        "# Name    : Tahia Hossain\n",
        "# ID      : 21301164\n",
        "# Section : 08"
      ]
    },
    {
      "cell_type": "code",
      "source": [
        "# TASK 1\n",
        "\n",
        "class Student:\n",
        "  def __init__(self, name='Just a student', dept='nothing'):\n",
        "    self.__name = name\n",
        "    self.__department = dept\n",
        "  def set_department(self, dept):\n",
        "    self.__department = dept\n",
        "  def get_name(self):\n",
        "    return self.__name\n",
        "  def set_name(self,name):\n",
        "    self.__name = name\n",
        "  def __str__(self):\n",
        "    return 'Name: '+self.__name+' Department: '+self.__department\n",
        "\n",
        "#write your code here\n",
        "\n",
        "class BBA_Student(Student):\n",
        "  def __init__(self,name=\"default\",dept=\"BBA\"):\n",
        "    super().__init__(name,dept)\n",
        "\n",
        "\n",
        "print(BBA_Student())\n",
        "print(BBA_Student('Humpty Dumpty'))\n",
        "print(BBA_Student('Little Bo Peep'))"
      ],
      "metadata": {
        "colab": {
          "base_uri": "https://localhost:8080/"
        },
        "id": "TZ5vXHuICK_M",
        "outputId": "aa510aee-f42a-4b4c-c258-b0d616027f6f"
      },
      "execution_count": 12,
      "outputs": [
        {
          "output_type": "stream",
          "name": "stdout",
          "text": [
            "Name: default Department: BBA\n",
            "Name: Humpty Dumpty Department: BBA\n",
            "Name: Little Bo Peep Department: BBA\n"
          ]
        }
      ]
    },
    {
      "cell_type": "code",
      "source": [
        "# TASK 2\n",
        "\n",
        "class Vehicle:\n",
        "  def __init__(self):\n",
        "    self.x = 0\n",
        "    self.y = 0\n",
        "  def moveUp(self):\n",
        "    self.y+=1\n",
        "  def moveDown(self):\n",
        "    self.y-=1\n",
        "  def moveRight(self):\n",
        "    self.x+=1\n",
        "  def moveLeft(self):\n",
        "    self.x-=1\n",
        "  def __str__(self):\n",
        "    return '('+str(self.x)+' , '+str(self.y)+')'\n",
        "\n",
        "#write your code here\n",
        "\n",
        "class Vehicle2010(Vehicle):\n",
        "  def moveLowerLeft(self):\n",
        "    self.moveDown()\n",
        "    self.moveLeft()\n",
        "    self.__str__()\n",
        "\n",
        "  def equals(self,other):\n",
        "    self.other = other\n",
        "    if self.x == other.x and self.y == other.y :\n",
        "      return \"True\"\n",
        "    else :\n",
        "      return \"False\"\n",
        "\n",
        "\n",
        "print('Part 1')\n",
        "print('------')\n",
        "car = Vehicle()\n",
        "print(car)\n",
        "car.moveUp()\n",
        "print(car)\n",
        "car.moveLeft()\n",
        "print(car)\n",
        "car.moveDown()\n",
        "print(car)\n",
        "car.moveRight()\n",
        "print(car)\n",
        "print('------')\n",
        "print('Part 2')\n",
        "print('------')\n",
        "car1 = Vehicle2010()\n",
        "print(car1)\n",
        "car1.moveLowerLeft()\n",
        "print(car1)\n",
        "car2 = Vehicle2010()\n",
        "car2.moveLeft()\n",
        "print(car1.equals(car2))\n",
        "car2.moveDown()\n",
        "print(car1.equals(car2))"
      ],
      "metadata": {
        "id": "wbKWgGPrEnle",
        "colab": {
          "base_uri": "https://localhost:8080/"
        },
        "outputId": "ab0068fe-818a-4b78-dd4f-0a948d6d7db2"
      },
      "execution_count": 13,
      "outputs": [
        {
          "output_type": "stream",
          "name": "stdout",
          "text": [
            "Part 1\n",
            "------\n",
            "(0 , 0)\n",
            "(0 , 1)\n",
            "(-1 , 1)\n",
            "(-1 , 0)\n",
            "(0 , 0)\n",
            "------\n",
            "Part 2\n",
            "------\n",
            "(0 , 0)\n",
            "(-1 , -1)\n",
            "False\n",
            "True\n"
          ]
        }
      ]
    },
    {
      "cell_type": "code",
      "source": [
        "# TASK 3\n",
        "\n",
        "class Tournament:   #parent\n",
        "  def __init__(self,name='Default'):\n",
        "    self.__name = name\n",
        "  def set_name(self,name):\n",
        "    self.__name = name\n",
        "  def get_name(self):\n",
        "    return self.__name\n",
        "\n",
        "#write your code here\n",
        "\n",
        "class Cricket_Tournament(Tournament):\n",
        "  def __init__(self,t_name=\"Default\",no_team=0,t_type=\"No type\"):\n",
        "    super().__init__(t_name)\n",
        "    self.no_team = no_team\n",
        "    self.t_type = t_type\n",
        "\n",
        "  def detail(self):\n",
        "    print(\"Cricket Tournament Name:\", super().get_name())\n",
        "    print(\"Number of Teams:\", self.no_team)\n",
        "    var = \"Type: \" + self.t_type\n",
        "    return var\n",
        "\n",
        "class Tennis_Tournament(Tournament):\n",
        "  def __init__(self,name,no_players):\n",
        "    self.name = name\n",
        "    self.no_players = no_players\n",
        "\n",
        "  def detail(self):\n",
        "    print(\"Tennis Tournament Name:\", self.name)\n",
        "    obj = \"Number of Players: \" + str(self.no_players)\n",
        "    return obj\n",
        "\n",
        "\n",
        "ct1 = Cricket_Tournament()\n",
        "print(ct1.detail())\n",
        "print(\"-----------------------\")\n",
        "ct2 = Cricket_Tournament(\"IPL\",10,\"t20\")\n",
        "print(ct2.detail())\n",
        "print(\"-----------------------\")\n",
        "tt = Tennis_Tournament(\"Roland Garros\",128)\n",
        "print(tt.detail())"
      ],
      "metadata": {
        "colab": {
          "base_uri": "https://localhost:8080/"
        },
        "id": "reTD8kqrZdCm",
        "outputId": "5092cd0b-b007-47f4-d14b-1ae927773ae0"
      },
      "execution_count": 14,
      "outputs": [
        {
          "output_type": "stream",
          "name": "stdout",
          "text": [
            "Cricket Tournament Name: Default\n",
            "Number of Teams: 0\n",
            "Type: No type\n",
            "-----------------------\n",
            "Cricket Tournament Name: IPL\n",
            "Number of Teams: 10\n",
            "Type: t20\n",
            "-----------------------\n",
            "Tennis Tournament Name: Roland Garros\n",
            "Number of Players: 128\n"
          ]
        }
      ]
    },
    {
      "cell_type": "code",
      "source": [
        "# TASK 4\n",
        "\n",
        "class Product:\n",
        "  def __init__(self,id, title, price):\n",
        "    self.__id = id\n",
        "    self. __title = title\n",
        "    self. __price = price\n",
        "  def get_id_title_price(self):\n",
        "    return \"ID: \"+str(self.__id)+\" Title: \"+self.__title+ \" Price: \"+str(self.__price)\n",
        "\n",
        "#write your code here\n",
        "\n",
        "class Book(Product):\n",
        "  def __init__(self,id,title,price,ISBN,publisher):\n",
        "    super().__init__(id,title,price)\n",
        "    self.ISBN = ISBN\n",
        "    self.publisher = publisher\n",
        "\n",
        "  def printDetail(self):\n",
        "    print(super().get_id_title_price())\n",
        "    var = \"ISBN: \" + self.ISBN + \" Publisher: \" + self.publisher\n",
        "    return var\n",
        "\n",
        "class CD(Product):\n",
        "  def __init__(self,id,title,price,band,time,genre):\n",
        "    super().__init__(id,title,price)\n",
        "    self.band = band\n",
        "    self.time = time \n",
        "    self.genre = genre\n",
        "\n",
        "  def printDetail(self):\n",
        "    print(super().get_id_title_price())\n",
        "    obj = \"Band: \" + self.band + \" Duration: \" + str(self.time) + \"minutes \\n\" + \"Genre: \" + self.genre\n",
        "    return obj\n",
        "\n",
        "book = Book(1,\"The Alchemist\",500,\"97806\",\"HarperCollins\")\n",
        "print(book.printDetail())\n",
        "print(\"-----------------------\")\n",
        "cd = CD(2,\"Shotto\",300,\"Warfaze\",50,\"Hard Rock\")\n",
        "print(cd.printDetail())"
      ],
      "metadata": {
        "colab": {
          "base_uri": "https://localhost:8080/"
        },
        "id": "RQOBVhfZd2yc",
        "outputId": "52cb416d-9bf6-4e65-96c4-d78c071166f8"
      },
      "execution_count": 19,
      "outputs": [
        {
          "output_type": "stream",
          "name": "stdout",
          "text": [
            "ID: 1 Title: The Alchemist Price: 500\n",
            "ISBN: 97806 Publisher: HarperCollins\n",
            "-----------------------\n",
            "ID: 2 Title: Shotto Price: 300\n",
            "Band: Warfaze Duration: 50minutes \n",
            "Genre: Hard Rock\n"
          ]
        }
      ]
    },
    {
      "cell_type": "code",
      "source": [
        "# TASK 5\n",
        "\n",
        "class Animal:\n",
        "  def __init__(self,sound):\n",
        "    self.__sound = sound\n",
        "  def makeSound(self):\n",
        "    return self.__sound\n",
        "\n",
        "class Printer:\n",
        "  def printSound(self, a):\n",
        "    print(a.makeSound())\n",
        "\n",
        "#write your code here\n",
        "\n",
        "class Dog(Animal):\n",
        "  def __init__(self,sound):\n",
        "    super().__init__(sound)\n",
        "\n",
        "class Cat(Animal):\n",
        "  def __init__(self,sound):\n",
        "    super().__init__(sound)\n",
        "\n",
        "\n",
        "d1 = Dog('bark')\n",
        "c1 = Cat('meow')\n",
        "a1 = Animal('Animal does not make sound')\n",
        "pr = Printer()\n",
        "pr.printSound(a1)\n",
        "pr.printSound(c1)\n",
        "pr.printSound(d1)"
      ],
      "metadata": {
        "id": "S9KXfjRtip_R",
        "colab": {
          "base_uri": "https://localhost:8080/"
        },
        "outputId": "1107253a-25c9-452d-df6c-197fa2ab9bce"
      },
      "execution_count": 20,
      "outputs": [
        {
          "output_type": "stream",
          "name": "stdout",
          "text": [
            "Animal does not make sound\n",
            "meow\n",
            "bark\n"
          ]
        }
      ]
    },
    {
      "cell_type": "code",
      "source": [
        "# TASK 6\n",
        "\n",
        "class Shape:\n",
        "  def __init__(self, name='Default', height=0, base=0):\n",
        "    self.area = 0\n",
        "    self.name = name\n",
        "    self.height = height\n",
        "    self.base = base\n",
        "  def get_height_base(self):\n",
        "    return \"Height: \"+str(self.height)+\",Base: \"+str(self.base)\n",
        "\n",
        "#write your code here\n",
        "\n",
        "class triangle(Shape):\n",
        "  def __init__(self,name=\"Default\",height=0,base=0):\n",
        "    super().__init__(name,height,base)\n",
        "  \n",
        "  def calcArea(self,area=0.0):\n",
        "    self.area = area\n",
        "    self.area = 1/2 * self.base * self.height\n",
        "\n",
        "  def printDetail(self):\n",
        "    print(\"Shape name: \", self.name)\n",
        "    print(\"Height: \" + str(self.height) + \", Base: \" + str(self.base))\n",
        "    area = \"Area: \" + str(self.area)\n",
        "    return area\n",
        "\n",
        "class trapezoid(Shape):\n",
        "  def __init__(self,name,height,base,side):\n",
        "    super().__init__(name,height,base)\n",
        "    self.side = side\n",
        "    \n",
        "  def calcArea(self,area=0.0):\n",
        "    self.area = area\n",
        "    self.area = ((self.side + self.base) / 2 ) * self.height\n",
        "\n",
        "  def printDetail(self):\n",
        "    print(\"Shape name: \", self.name)\n",
        "    print(\"Height: \" + str(self.height) + \", Base: \" + str(self.base) + \", Side_A: \" + str(self.side))\n",
        "    area = \"Area: \" + str(self.area)\n",
        "    return area\n",
        "\n",
        "\n",
        "tri_default = triangle()\n",
        "tri_default.calcArea()\n",
        "print(tri_default.printDetail())\n",
        "print('--------------------------')\n",
        "tri = triangle('Triangle', 10, 5)\n",
        "tri.calcArea()\n",
        "print(tri.printDetail())\n",
        "print('---------------------------')\n",
        "trap = trapezoid('Trapezoid', 10, 6, 4)\n",
        "trap.calcArea()\n",
        "print(trap.printDetail())"
      ],
      "metadata": {
        "id": "RYRqOBKAj4YY",
        "colab": {
          "base_uri": "https://localhost:8080/"
        },
        "outputId": "9483d944-654b-426b-a503-056f20b4ee09"
      },
      "execution_count": 21,
      "outputs": [
        {
          "output_type": "stream",
          "name": "stdout",
          "text": [
            "Shape name:  Default\n",
            "Height: 0, Base: 0\n",
            "Area: 0.0\n",
            "--------------------------\n",
            "Shape name:  Triangle\n",
            "Height: 10, Base: 5\n",
            "Area: 25.0\n",
            "---------------------------\n",
            "Shape name:  Trapezoid\n",
            "Height: 10, Base: 6, Side_A: 4\n",
            "Area: 50.0\n"
          ]
        }
      ]
    },
    {
      "cell_type": "code",
      "source": [
        "# TASK 7\n",
        "\n",
        "class Football:\n",
        "  def __init__(self, team_name, name, role):\n",
        "    self.__team = team_name\n",
        "    self.__name = name\n",
        "    self.role = role\n",
        "    self.earning_per_match = 0\n",
        "  def get_name_team(self):\n",
        "    return 'Name: '+self.__name+', Team Name: ' +self.__team\n",
        "\n",
        "#write your code here\n",
        "\n",
        "class Player(Football):\n",
        "  def __init__(self,name,team_name,role,goal,play):\n",
        "    super().__init__(name,team_name,role)\n",
        "    self.total_goal = goal\n",
        "    self.total_match = play\n",
        "\n",
        "  def calculate_ratio(self):\n",
        "    self.ratio = self.total_goal / self.total_match\n",
        "\n",
        "  def print_details(self):\n",
        "    print(self.get_name_team())\n",
        "    print(\"Team Role: \", self.role)\n",
        "    print(\"Total Goal: \" + str(self.total_goal) + \", Total Played: \" + str(self.total_match))\n",
        "    print(\"Goal Ratio: \", self.total_goal / self.total_match)\n",
        "    print(\"Match Earning: \" + str((self.total_goal*1000) + (self.total_match*10)) + \"K\")\n",
        "\n",
        "class Manager(Football):\n",
        "  def __init__(self,name,team_name,role,win):\n",
        "    super().__init__(name,team_name,role)\n",
        "    self.match_win = win\n",
        "\n",
        "  def print_details(self):\n",
        "    print(self.get_name_team())\n",
        "    #print(super().get_name_team())\n",
        "    print(\"Team Role: \", self.role)\n",
        "    print(\"Total Win: \", self.match_win)\n",
        "    print(\"Match Earning: \" + str(self.match_win * 1000) + \"K\")\n",
        "\n",
        "\n",
        "player_one = Player('Juventus', 'Ronaldo', 'Striker', 25, 32)\n",
        "player_one.calculate_ratio()\n",
        "player_one.print_details()\n",
        "print('------------------------------------------')\n",
        "manager_one = Manager('Real Madrid', 'Zidane', 'Manager', 25)\n",
        "manager_one.print_details()"
      ],
      "metadata": {
        "id": "rfclJXQ9kFy2",
        "colab": {
          "base_uri": "https://localhost:8080/"
        },
        "outputId": "0aad0131-4961-4374-c0a3-31c576e6415e"
      },
      "execution_count": 24,
      "outputs": [
        {
          "output_type": "stream",
          "name": "stdout",
          "text": [
            "Name: Ronaldo, Team Name: Juventus\n",
            "Team Role:  Striker\n",
            "Total Goal: 25, Total Played: 32\n",
            "Goal Ratio:  0.78125\n",
            "Match Earning: 25320K\n",
            "------------------------------------------\n",
            "Name: Zidane, Team Name: Real Madrid\n",
            "Team Role:  Manager\n",
            "Total Win:  25\n",
            "Match Earning: 25000K\n"
          ]
        }
      ]
    }
  ]
}