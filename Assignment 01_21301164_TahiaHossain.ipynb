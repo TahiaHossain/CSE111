{
  "nbformat": 4,
  "nbformat_minor": 0,
  "metadata": {
    "colab": {
      "name": "Assignment 01_21301164_TahiaHossain.ipynb",
      "provenance": []
    },
    "kernelspec": {
      "name": "python3",
      "display_name": "Python 3"
    },
    "language_info": {
      "name": "python"
    }
  },
  "cells": [
    {
      "cell_type": "code",
      "metadata": {
        "id": "aJvJ9YG_F5kp"
      },
      "source": [
        "# CSE 111 - Lab Assignment 1\n",
        "# Name    : Tahia Hossain\n",
        "# ID      : 21301164\n",
        "# Section : 08"
      ],
      "execution_count": null,
      "outputs": []
    },
    {
      "cell_type": "markdown",
      "metadata": {
        "id": "f2DYnrXfF7T2"
      },
      "source": [
        "String Tasks :"
      ]
    },
    {
      "cell_type": "code",
      "metadata": {
        "id": "eRt1_z43Bt0a",
        "colab": {
          "base_uri": "https://localhost:8080/"
        },
        "outputId": "b031aebc-5ace-48a8-ed8c-e9e19d5c1294"
      },
      "source": [
        "#Task 1\n",
        "\n",
        "user_input = input(\"Please enter your desired string: \")\n",
        "\n",
        "uppercase = 0\n",
        "lowercase = 0\n",
        "\n",
        "for character in user_input :\n",
        "  if 'A' <= character <= 'Z' :\n",
        "    uppercase += 1\n",
        "  elif 'a' <= character <= 'z' :\n",
        "    lowercase += 1\n",
        "\n",
        "### ASCII is another way using ord and chr\n",
        "\n",
        "#for character in range (len(user_input)) :\n",
        "  #if user_input[character].isupper() :\n",
        "    #uppercase += 1\n",
        "  #elif user_input[character].islower() :\n",
        "    #lowercase += 1\n",
        "\n",
        "#print(\"Uppercase letters:\", uppercase)\n",
        "#print(\"Lowercase letters:\", lowercase)\n",
        "\n",
        "output = ''\n",
        "\n",
        "if uppercase > lowercase :\n",
        "  for ch in user_input :\n",
        "    if ch.isupper() :\n",
        "      output += ch\n",
        "    else :\n",
        "      output = output + chr(ord(ch)-32)\n",
        "\n",
        "if lowercase > uppercase or uppercase == lowercase :\n",
        "  for ch in user_input :\n",
        "    if ch.islower() :\n",
        "      output += ch\n",
        "    else :\n",
        "      output = output + chr(ord(ch)+32)\n",
        "\n",
        "print(\"Output:\", output)\n",
        "\n",
        "#if uppercase > lowercase :\n",
        "  #print(user_input.upper())\n",
        "#else :\n",
        "  #print(user_input.lower())'''"
      ],
      "execution_count": null,
      "outputs": [
        {
          "output_type": "stream",
          "name": "stdout",
          "text": [
            "Please enter your desired string: BaNaNa\n",
            "Output: banana\n"
          ]
        }
      ]
    },
    {
      "cell_type": "code",
      "metadata": {
        "colab": {
          "base_uri": "https://localhost:8080/"
        },
        "id": "oCpokNoSR0JW",
        "outputId": "7fa94ecb-a91b-47a7-cadc-f670f1c949d8"
      },
      "source": [
        "# Task 2\n",
        "\n",
        "user_input = input(\"Please enter a string: \")\n",
        "\n",
        "num = \"0123456789\"\n",
        "\n",
        "number_check = False\n",
        "letter_check = False\n",
        "\n",
        "for ch in user_input :\n",
        "  if ch in num:\n",
        "    number_check = True\n",
        "  else :\n",
        "    #print(ch)\n",
        "    letter_check = True\n",
        "\n",
        "#print(number_check)\n",
        "#print(letter_check)\n",
        "\n",
        "if number_check and letter_check :\n",
        "  print(\"MIXED\")\n",
        "elif number_check :\n",
        "  print(\"NUMBER\")\n",
        "else :\n",
        "  print(\"WORD\")"
      ],
      "execution_count": null,
      "outputs": [
        {
          "output_type": "stream",
          "name": "stdout",
          "text": [
            "Please enter a string: Hello\n",
            "WORD\n"
          ]
        }
      ]
    },
    {
      "cell_type": "code",
      "metadata": {
        "colab": {
          "base_uri": "https://localhost:8080/"
        },
        "id": "-XcrbSolaPHg",
        "outputId": "df865822-888a-42a5-f17f-b894a6ca9067"
      },
      "source": [
        "# Task 3\n",
        "\n",
        "user_input = input(\"Please enter a string: \")\n",
        "\n",
        "output = ''\n",
        "\n",
        "count = 0\n",
        "\n",
        "for ch in user_input :\n",
        "  if ch.isupper() :\n",
        "    count = count + 1\n",
        "    continue\n",
        "  if count == 1 :\n",
        "    output = output + ch\n",
        "\n",
        "if len(output) == 0 :\n",
        "  print(\"BLANK\")\n",
        "else : \n",
        "  print(\"Output is:\", output)"
      ],
      "execution_count": null,
      "outputs": [
        {
          "output_type": "stream",
          "name": "stdout",
          "text": [
            "Please enter a string: coDIng\n",
            "BLANK\n"
          ]
        }
      ]
    },
    {
      "cell_type": "code",
      "metadata": {
        "id": "7EvN-xiyctzc",
        "colab": {
          "base_uri": "https://localhost:8080/"
        },
        "outputId": "7f779c64-727e-443b-9619-30d561f5edab"
      },
      "source": [
        "# Task 4\n",
        "\n",
        "user_input = input(\"Please enter a string: \")\n",
        "\n",
        "if \"too good\" in user_input :\n",
        "  my_list = user_input.split(\"too good\")\n",
        "  output = my_list[0] + \"excellent\" + my_list[1]\n",
        "  print(\"Output:\", output)\n",
        "\n",
        "else :\n",
        "  print(\"Output:\", user_input)"
      ],
      "execution_count": null,
      "outputs": [
        {
          "output_type": "stream",
          "name": "stdout",
          "text": [
            "Please enter a string: This book is good too!\n",
            "Output: This book is good too!\n"
          ]
        }
      ]
    },
    {
      "cell_type": "code",
      "metadata": {
        "colab": {
          "base_uri": "https://localhost:8080/"
        },
        "id": "6ZCBV6dPK6pF",
        "outputId": "ee0c3a34-d51d-493a-aeea-76c490f3fb8e"
      },
      "source": [
        "# Task 5\n",
        "\n",
        "user_input = input(\"Please enter two strings: \")\n",
        "\n",
        "my_list = user_input.split(\",\")\n",
        "\n",
        "new_str = \"\"\n",
        "\n",
        "for ch in my_list[0] :\n",
        "  if ch in my_list[1] :\n",
        "    #print(ch, end = \"\")\n",
        "    new_str += ch\n",
        "\n",
        "for ch in my_list[1] :\n",
        "  if ch in my_list[0] :\n",
        "    #print(ch, end = \"\")\n",
        "    new_str += ch\n",
        "  \n",
        "if new_str == \"\" :\n",
        "  print(\"Nothing in common.\")\n",
        "else :\n",
        "  print(\"Output:\", new_str)"
      ],
      "execution_count": null,
      "outputs": [
        {
          "output_type": "stream",
          "name": "stdout",
          "text": [
            "Please enter two strings: tom,dean\n",
            "Nothing in common.\n"
          ]
        }
      ]
    },
    {
      "cell_type": "code",
      "metadata": {
        "colab": {
          "base_uri": "https://localhost:8080/"
        },
        "id": "fvr098prgyht",
        "outputId": "8982ebe7-f0a6-4a94-aece-a7162f78f462"
      },
      "source": [
        "# Task 6\n",
        "\n",
        "user_input = input(\"Please enter your desired password: \")\n",
        "\n",
        "num = \"0123456789\"\n",
        "special_character = \"_$#@\"\n",
        "\n",
        "upper_check = False\n",
        "lower_check = False\n",
        "num_check = False\n",
        "special_chr_check = False\n",
        "\n",
        "for ch in user_input :\n",
        "  if ch.isupper() :\n",
        "    upper_check = True\n",
        "  elif ch.islower() :\n",
        "    lower_check = True\n",
        "  elif ch in num :\n",
        "    num_check = True\n",
        "  elif ch in special_character :\n",
        "    special_chr_check = True\n",
        "\n",
        "print_list = []\n",
        "\n",
        "if upper_check and lower_check and num_check and special_chr_check :\n",
        "  print(\"OK\")\n",
        "if upper_check == False :\n",
        "  #print(\"Uppercase character missing\", end = \", \")\n",
        "  print_list.append(\"Uppercase character missing\")\n",
        "if lower_check == False :\n",
        "  #print(\"Lowercase character missing\", end = \", \")\n",
        "  print_list.append(\"Lowercase character missing\")\n",
        "if num_check == False :\n",
        "  #print(\"Digit Missing\", end = \", \")\n",
        "  print_list.append(\"Digit Missing\")\n",
        "if special_chr_check == False :\n",
        "  #print(\"Special character missing\")\n",
        "  print_list.append(\"Special character missing\")\n",
        "\n",
        "for output in range(len(print_list)) :\n",
        "  if output == len(print_list)-1 :\n",
        "    print(print_list[output])\n",
        "  else :\n",
        "    print(print_list[output], end = \", \")"
      ],
      "execution_count": 44,
      "outputs": [
        {
          "output_type": "stream",
          "name": "stdout",
          "text": [
            "Please enter your desired password: aaabbggg\n",
            "Uppercase character missing, Digit Missing, Special character missing\n"
          ]
        }
      ]
    },
    {
      "cell_type": "markdown",
      "metadata": {
        "id": "Yj2k0vw61NYU"
      },
      "source": [
        "List Tasks :"
      ]
    },
    {
      "cell_type": "code",
      "metadata": {
        "id": "4TtzyPu81VMh",
        "colab": {
          "base_uri": "https://localhost:8080/"
        },
        "outputId": "d033606c-cf95-453d-e3c5-bc8fc53619ec"
      },
      "source": [
        "# Task 1\n",
        "\n",
        "#user_input = input(\"Please enter the values: \")\n",
        "\n",
        "my_list = []\n",
        "unique_list = []\n",
        "\n",
        "#while user_input != 'STOP' :\n",
        "  #.append(int(user_input))\n",
        "  #user_input = input(\"Please enter the values: \")\n",
        "\n",
        "while True :\n",
        "  user_input = input(\"Please enter the values: \")\n",
        "  if user_input == \"STOP\" :\n",
        "    break\n",
        "  else :\n",
        "    my_list.append(int(user_input))\n",
        "\n",
        "for num in my_list :\n",
        "  no_of_counts = my_list.count(num)\n",
        "  ch = str(num) + \" - \" + str(no_of_counts) + \" times\"\n",
        "  if ch not in unique_list :\n",
        "    unique_list.append(ch)\n",
        "\n",
        "for num in unique_list :\n",
        "  print(num)"
      ],
      "execution_count": null,
      "outputs": [
        {
          "output_type": "stream",
          "name": "stdout",
          "text": [
            "Please enter the values: 10\n",
            "Please enter the values: 20\n",
            "Please enter the values: 20\n",
            "Please enter the values: 30\n",
            "Please enter the values: 10\n",
            "Please enter the values: 50\n",
            "Please enter the values: 90\n",
            "Please enter the values: STOP\n",
            "10 - 2 times\n",
            "20 - 2 times\n",
            "30 - 1 times\n",
            "50 - 1 times\n",
            "90 - 1 times\n"
          ]
        }
      ]
    },
    {
      "cell_type": "code",
      "metadata": {
        "id": "O09zUT4sOgtE",
        "colab": {
          "base_uri": "https://localhost:8080/"
        },
        "outputId": "24b692d3-b8df-4794-afb0-f42333868f5c"
      },
      "source": [
        "# Task 2\n",
        "\n",
        "n = int(input(\"Please enter your desired number: \"))\n",
        "n_list = []\n",
        "\n",
        "\n",
        "#for num in range(n) :\n",
        "  #temp_list = input(\"Please enter numbers: \").split(\" \")\n",
        "  #n_list.append(temp_list)\n",
        "  #sum = 0\n",
        "\n",
        "  #for num in temp_list :\n",
        "    #sum = sum + int(num)\n",
        "    #if sum > max :\n",
        "      #out_list = temp_list\n",
        "      #max = sum\n",
        "\n",
        "\n",
        "temp_list = []\n",
        "for i in range(n):\n",
        "    x = input(\"Please enter your desired values: \").split(\" \")\n",
        "    for j in x:\n",
        "      j = int(j) \n",
        "      temp_list.append(j)\n",
        "    n_list.append(temp_list) \n",
        "    temp_list = []\n",
        "\n",
        "#print(n_list)\n",
        "\n",
        "max = 0\n",
        "max_index = 0\n",
        "\n",
        "for k in range(n):\n",
        "    s = sum(n_list[k])\n",
        "    if s > max :\n",
        "      max = s\n",
        "      max_index = k\n",
        "\n",
        "print(\"Highest Sum:\", max)\n",
        "print(\"Respective list of the highest sum:\", n_list[max_index])"
      ],
      "execution_count": null,
      "outputs": [
        {
          "output_type": "stream",
          "name": "stdout",
          "text": [
            "Please enter your desired number: 4\n",
            "Please enter your desired values: 1 2 3\n",
            "Please enter your desired values: 4 5 6\n",
            "Please enter your desired values: 10 11 12\n",
            "Please enter your desired values: 7 8 9\n",
            "Highest Sum: 33\n",
            "Respective list of the highest sum: [10, 11, 12]\n"
          ]
        }
      ]
    },
    {
      "cell_type": "code",
      "metadata": {
        "colab": {
          "base_uri": "https://localhost:8080/"
        },
        "id": "YfttK0n1Rfny",
        "outputId": "69a7750d-b7d9-414b-d81d-1b41d743ffa3"
      },
      "source": [
        "# Task 3\n",
        "\n",
        "list1 = input(\"Please enter the first list: \").split(\" \")\n",
        "list2 = input(\"Please enter the second list: \").split(\" \")\n",
        "\n",
        "output = []\n",
        "\n",
        "for num1 in list1 :\n",
        "  for num2 in list2 :\n",
        "    output.append(int(num1)*int(num2))\n",
        "\n",
        "print(\"Output :\", output)"
      ],
      "execution_count": null,
      "outputs": [
        {
          "output_type": "stream",
          "name": "stdout",
          "text": [
            "Please enter the first list: 2 3 6\n",
            "Please enter the second list: 3 4 5\n",
            "Output : [6, 8, 10, 9, 12, 15, 18, 24, 30]\n"
          ]
        }
      ]
    },
    {
      "cell_type": "code",
      "metadata": {
        "id": "cYdnogQ8S1FH",
        "colab": {
          "base_uri": "https://localhost:8080/"
        },
        "outputId": "b6ba481f-35fd-49fd-bd82-08878317a226"
      },
      "source": [
        "# Task 4\n",
        "\n",
        "while True :\n",
        "  n = input(\"Please enter numbers in a list: \")\n",
        "  if n == \"STOP\" :\n",
        "    break\n",
        "  new_list = n.split(\" \")\n",
        "  count = 0\n",
        "\n",
        "  for index in range(len(new_list)-1) :\n",
        "    if abs(int(new_list[index+1])-int(new_list[index])) <= len(new_list)-1 :\n",
        "      count = count + 1\n",
        "\n",
        "  if count == len(new_list) - 1 :\n",
        "    print(\"UB Jumper\")\n",
        "  else :\n",
        "    print(\"Not UB Jumper\")"
      ],
      "execution_count": null,
      "outputs": [
        {
          "name": "stdout",
          "output_type": "stream",
          "text": [
            "Please enter numbers in a list: 1 4 2 3\n",
            "UB Jumper\n",
            "Please enter numbers in a list: 2 1 4 6 10\n",
            "UB Jumper\n",
            "Please enter numbers in a list: 1 4 2 -1 6\n",
            "Not UB Jumper\n",
            "Please enter numbers in a list: STOP\n"
          ]
        }
      ]
    },
    {
      "cell_type": "code",
      "metadata": {
        "colab": {
          "base_uri": "https://localhost:8080/"
        },
        "id": "8i95URDbleXF",
        "outputId": "172e3397-3bc5-4eab-b7ff-389f99182836"
      },
      "source": [
        "# Task 5\n",
        "\n",
        "user_input = input(\"Please enter a string: \")\n",
        "\n",
        "lowercase = \"\"\n",
        "uppercase = \"\"\n",
        "even = \"\"\n",
        "odd = \"\"\n",
        "\n",
        "for ch in user_input :\n",
        "  if 65 <= ord(ch) <= 90 :\n",
        "    uppercase = uppercase + ch\n",
        "  elif 97 <= ord(ch) <= 122 :\n",
        "    lowercase = lowercase + ch\n",
        "  elif 48 <= ord(ch) <= 57 :\n",
        "    if int(ch) % 2 == 0 :\n",
        "      odd += ch\n",
        "    else :\n",
        "      even = even + ch\n",
        "\n",
        "my_str = sorted(lowercase) + sorted(uppercase) + sorted(even) + sorted(odd)\n",
        "result = \"\"\n",
        "\n",
        "for elements in my_str :\n",
        "  result = result + elements\n",
        "print(\"Output:\", result)"
      ],
      "execution_count": null,
      "outputs": [
        {
          "output_type": "stream",
          "name": "stdout",
          "text": [
            "Please enter a string: Bracu1234\n",
            "Output: acruB1324\n"
          ]
        }
      ]
    },
    {
      "cell_type": "code",
      "metadata": {
        "colab": {
          "base_uri": "https://localhost:8080/"
        },
        "id": "O8cKcDfMqfry",
        "outputId": "807282de-28a0-4bb0-c3fb-013859480662"
      },
      "source": [
        "# Task 6\n",
        "\n",
        "user_input = input(\"Please enter two integers (number of students and participation eligibility): \").split(\" \")\n",
        "no_of_participation = input(\"Please enter the number of attempts: \").split(\" \")\n",
        "\n",
        "teams = []\n",
        "eligible_count = 0\n",
        "\n",
        "#for value in no_of_participation :\n",
        "  #num = int(user_input[1])*int(value)\n",
        "  #if num <= 5 :\n",
        "    #eligible_count = eligible_count + 1\n",
        "\n",
        "for value in no_of_participation :\n",
        "  if (5-int(value) >= int(user_input[1])) :\n",
        "    eligible_count += 1\n",
        "\n",
        "print(\"Output:\", eligible_count//3)"
      ],
      "execution_count": null,
      "outputs": [
        {
          "output_type": "stream",
          "name": "stdout",
          "text": [
            "Please enter two integers (number of students and participation eligibility): 6 5\n",
            "Please enter the number of attempts: 0 0 0 0 0 0\n",
            "Output: 2\n"
          ]
        }
      ]
    },
    {
      "cell_type": "markdown",
      "metadata": {
        "id": "u9Gen1Ajw4up"
      },
      "source": [
        "Dictionary & Tuple Tasks :"
      ]
    },
    {
      "cell_type": "code",
      "metadata": {
        "id": "zWRc74gWw_Kt",
        "colab": {
          "base_uri": "https://localhost:8080/"
        },
        "outputId": "1315b126-d29f-4d21-9265-1966e69d01de"
      },
      "source": [
        "# Task 1\n",
        "\n",
        "dict1 = {\"a\": 100, \"b\": 800, \"c\": 200, \"d\": 600}\n",
        "dict2 = {\"a\": 300, \"b\": 200, \"d\": 400, \"e\": 300}\n",
        "\n",
        "for k,v in dict2.items() :\n",
        "  if dict1.get(k) == None :\n",
        "    dict1[k] = v\n",
        "  else :\n",
        "    dict1[k] += v\n",
        "    \n",
        "print(dict1)\n",
        "\n",
        "value = []\n",
        "\n",
        "for val in dict1.values() :\n",
        "  if val not in value :\n",
        "    value.append(val)\n",
        "value.sort()\n",
        "\n",
        "print(\"Values:\", tuple(value))"
      ],
      "execution_count": null,
      "outputs": [
        {
          "output_type": "stream",
          "name": "stdout",
          "text": [
            "{'a': 400, 'b': 1000, 'c': 200, 'd': 1000, 'e': 300}\n",
            "Values: (200, 300, 400, 1000)\n"
          ]
        }
      ]
    },
    {
      "cell_type": "code",
      "metadata": {
        "colab": {
          "base_uri": "https://localhost:8080/"
        },
        "id": "pl3--GxRxeV4",
        "outputId": "de1fba3b-672b-4cb9-d712-602f5378b712"
      },
      "source": [
        "# Task 2\n",
        "\n",
        "dic = {}\n",
        "\n",
        "while True :\n",
        "  user_input = input(\"Please enter numbers: \")\n",
        "  if user_input == \"STOP\" :\n",
        "    break\n",
        "  if user_input in dic.keys() :\n",
        "    dic[user_input] = dic[user_input] + 1\n",
        "  else :\n",
        "    dic[user_input] = 1\n",
        "\n",
        "for num,times in dic.items() :\n",
        "  print(num, \"-\", times, \"times\")"
      ],
      "execution_count": null,
      "outputs": [
        {
          "output_type": "stream",
          "name": "stdout",
          "text": [
            "Please enter numbers: 10\n",
            "Please enter numbers: 20\n",
            "Please enter numbers: 20\n",
            "Please enter numbers: 30\n",
            "Please enter numbers: 10\n",
            "Please enter numbers: 50\n",
            "Please enter numbers: 90\n",
            "Please enter numbers: STOP\n",
            "10 - 2 times\n",
            "20 - 2 times\n",
            "30 - 1 times\n",
            "50 - 1 times\n",
            "90 - 1 times\n"
          ]
        }
      ]
    },
    {
      "cell_type": "code",
      "metadata": {
        "colab": {
          "base_uri": "https://localhost:8080/"
        },
        "id": "PFZAhuWuyeL-",
        "outputId": "d0a363af-22c5-4358-acfe-f5027bd7d1c0"
      },
      "source": [
        "# Task 3\n",
        "\n",
        "dic = {\"key1\" : \"value1\", \"key2\" : \"value2\", \"key3\" : \"value1\", \"key4\" : \"value2\"}\n",
        "result = {}\n",
        "\n",
        "for key,value in dic.items() :\n",
        "  if value not in result.keys() :\n",
        "    result[value] = [key]\n",
        "  else :\n",
        "    result[value].append(key)\n",
        "\n",
        "print(result)"
      ],
      "execution_count": null,
      "outputs": [
        {
          "output_type": "stream",
          "name": "stdout",
          "text": [
            "{'value1': ['key1', 'key3'], 'value2': ['key2', 'key4']}\n"
          ]
        }
      ]
    },
    {
      "cell_type": "code",
      "metadata": {
        "id": "EOz2Xads0BNe",
        "colab": {
          "base_uri": "https://localhost:8080/"
        },
        "outputId": "955b0d40-9a24-4633-cff8-0a076b109d90"
      },
      "source": [
        "# Task 4\n",
        "\n",
        "str1 = input(\"Please enter a word: \").upper()\n",
        "str2 = input(\"Please enter another word: \").upper()\n",
        "\n",
        "dict1 = {}\n",
        "dict2 = {}\n",
        "\n",
        "for ch in str1 :\n",
        "  dict1[ch] = str1.count(ch)\n",
        "for ch1 in str2 :\n",
        "  dict2[ch1] = str2.count(ch1)\n",
        "\n",
        "if dict1 == dict2 :\n",
        "  print(\"Those strings are anagrams.\")\n",
        "else :\n",
        "  print(\"Those strings are not anagrams.\")"
      ],
      "execution_count": null,
      "outputs": [
        {
          "output_type": "stream",
          "name": "stdout",
          "text": [
            "Please enter a word: evil\n",
            "Please enter another word: live\n",
            "Those strings are anagrams.\n"
          ]
        }
      ]
    },
    {
      "cell_type": "code",
      "metadata": {
        "id": "vQ-dKkpP0C8M",
        "colab": {
          "base_uri": "https://localhost:8080/"
        },
        "outputId": "ed7fd018-cbf7-48d4-c6ce-00d98bf4eb00"
      },
      "source": [
        "# Task 5\n",
        "\n",
        "my_dict = {'1':'.,?!:', '2':'ABC', '3':'DEF', '4':'GHI', '5':'JKL', \n",
        "           '6':'MNO', '7':'PQRS', '8':'TUV', '9':'WXYZ', '0':' '}\n",
        "\n",
        "user_input = input(\"Please enter the desired text: \").upper()\n",
        "\n",
        "for var in user_input :\n",
        "  for k,v in my_dict.items():\n",
        "    if var in v :\n",
        "      x = v.find(var)\n",
        "      for ch in range(x+1) :\n",
        "        print(k, end = \"\")"
      ],
      "execution_count": null,
      "outputs": [
        {
          "output_type": "stream",
          "name": "stdout",
          "text": [
            "Please enter the desired text: Tahia\n",
            "82444442"
          ]
        }
      ]
    }
  ]
}