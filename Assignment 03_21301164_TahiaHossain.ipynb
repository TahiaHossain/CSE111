{
  "nbformat": 4,
  "nbformat_minor": 0,
  "metadata": {
    "colab": {
      "name": "Assignment 03_21301164_TahiaHossain.ipynb",
      "provenance": [],
      "collapsed_sections": []
    },
    "kernelspec": {
      "name": "python3",
      "display_name": "Python 3"
    },
    "language_info": {
      "name": "python"
    }
  },
  "cells": [
    {
      "cell_type": "code",
      "metadata": {
        "id": "hWURGxxBDaCI"
      },
      "source": [
        "# CSE 111 : Lab Assignment 3\n",
        "# Name    : Tahia Hossain\n",
        "# ID      : 21301164\n",
        "# Section : 08"
      ],
      "execution_count": null,
      "outputs": []
    },
    {
      "cell_type": "code",
      "metadata": {
        "colab": {
          "base_uri": "https://localhost:8080/"
        },
        "id": "AM5ljQ-2Gt_t",
        "outputId": "436b2014-7b91-4514-e46c-87c8e52d7471"
      },
      "source": [
        "# Task 1\n",
        "class DataType :\n",
        "  def __init__(self,name,values) :\n",
        "    self.name = name\n",
        "    self.value = values\n",
        "\n",
        "#Write your class code here\n",
        "data_type1 = DataType('Integer', 1234)\n",
        "print(data_type1.name)\n",
        "print(data_type1.value)\n",
        "print('=====================')\n",
        "data_type2 = DataType('String', 'Hello')\n",
        "print(data_type2.name)\n",
        "print(data_type2.value)\n",
        "print('=====================')\n",
        "data_type3 = DataType('Float', 4.0)\n",
        "print(data_type3.name)\n",
        "print(data_type3.value)"
      ],
      "execution_count": 1,
      "outputs": [
        {
          "output_type": "stream",
          "name": "stdout",
          "text": [
            "Integer\n",
            "1234\n",
            "=====================\n",
            "String\n",
            "Hello\n",
            "=====================\n",
            "Float\n",
            "4.0\n"
          ]
        }
      ]
    },
    {
      "cell_type": "code",
      "metadata": {
        "colab": {
          "base_uri": "https://localhost:8080/"
        },
        "id": "hkBt7Uz8MO_u",
        "outputId": "24b4e783-62d0-4c4b-e844-1ee1861ab812"
      },
      "source": [
        "# Task 2\n",
        "\n",
        "class Flower :\n",
        "  def __init__(self) :\n",
        "    self.name = \"\"\n",
        "    self.color = \"\"\n",
        "    self.num_of_petal = 0\n",
        "\n",
        "#Write your class code here\n",
        "flower1 = Flower()\n",
        "flower1.name=\"Rose\"\n",
        "flower1.color=\"Red\"\n",
        "flower1.num_of_petal=6\n",
        "print(\"Name of this flower:\", flower1.name)\n",
        "print(\"Color of this flower:\",flower1.color)\n",
        "print(\"Number of petal:\",flower1.num_of_petal)\n",
        "print('=====================')\n",
        "flower2 = Flower()\n",
        "flower2.name=\"Orchid\"\n",
        "flower2.color=\"Purple\"\n",
        "flower2.num_of_petal=4\n",
        "print(\"Name of this flower:\",flower2.name)\n",
        "print(\"Color of this flower:\",flower2.color)\n",
        "print (\"Number of petal:\",flower2. num_of_petal)\n",
        "#Write the code for subtask 2 and 3 here\n",
        "\n",
        "print('=====================')\n",
        "\n",
        "print(\"Address of flower1:\", flower1)\n",
        "print(\"Address of flower2:\", flower2)\n",
        "\n",
        "if flower1 == flower2 :\n",
        "  print(\"They are same\")\n",
        "else :\n",
        "  print(\"They are different\")   # They do not print the same address (location different as diferent object)"
      ],
      "execution_count": 2,
      "outputs": [
        {
          "output_type": "stream",
          "name": "stdout",
          "text": [
            "Name of this flower: Rose\n",
            "Color of this flower: Red\n",
            "Number of petal: 6\n",
            "=====================\n",
            "Name of this flower: Orchid\n",
            "Color of this flower: Purple\n",
            "Number of petal: 4\n",
            "=====================\n",
            "Address of flower1: <__main__.Flower object at 0x7f77c3b0cc90>\n",
            "Address of flower2: <__main__.Flower object at 0x7f77c3b0c6d0>\n",
            "They are different\n"
          ]
        }
      ]
    },
    {
      "cell_type": "code",
      "metadata": {
        "id": "JMyOpNluP4BP",
        "colab": {
          "base_uri": "https://localhost:8080/"
        },
        "outputId": "65174ca7-c72c-46db-915e-ec8721aa84e1"
      },
      "source": [
        "# Task 3\n",
        "\n",
        "class Wadiya():\n",
        "  def __init__(self):\n",
        "    self.name = 'Aladeen'\n",
        "    self.designation = 'President Prime Minister Admiral General'\n",
        "    self.num_of_wife = 100\n",
        "    self.dictator = True\n",
        "\n",
        "#Write your code for subtask 1, 2, 3 and 4 here\n",
        "\n",
        "#subtask 1\n",
        "wadiya = Wadiya()   \n",
        "\n",
        "#subtask 2\n",
        "print(\"Part 1:\")\n",
        "print(\"Name of President:\", wadiya.name)\n",
        "print(\"Designation:\", wadiya.designation)\n",
        "print(\"Number of wife:\", wadiya.num_of_wife)\n",
        "print(\"Is he/she a dictator:\", wadiya.dictator)\n",
        "\n",
        "#subtask 3\n",
        "print(\"Part 2:\")    \n",
        "wadiya.name = \"Donald Trump\"\n",
        "wadiya.designation = \"President\"\n",
        "wadiya.num_of_wife = 1\n",
        "wadiya.dictator = False\n",
        "\n",
        "print(\"Name of President:\", wadiya.name)\n",
        "print(\"Designation:\", wadiya.designation)\n",
        "print(\"Number of wife:\", wadiya.num_of_wife)\n",
        "print(\"Is he/she a dictator:\", wadiya.dictator)\n",
        "\n",
        "#subtask 4\n",
        "if wadiya.name == \"Aladeen\" :\n",
        "  print(\"No, changing had no effect on previous value\")\n",
        "else :\n",
        "  print(\"Previous information lost\")"
      ],
      "execution_count": 3,
      "outputs": [
        {
          "output_type": "stream",
          "name": "stdout",
          "text": [
            "Part 1:\n",
            "Name of President: Aladeen\n",
            "Designation: President Prime Minister Admiral General\n",
            "Number of wife: 100\n",
            "Is he/she a dictator: True\n",
            "Part 2:\n",
            "Name of President: Donald Trump\n",
            "Designation: President\n",
            "Number of wife: 1\n",
            "Is he/she a dictator: False\n",
            "Previous information lost\n"
          ]
        }
      ]
    },
    {
      "cell_type": "code",
      "metadata": {
        "colab": {
          "base_uri": "https://localhost:8080/"
        },
        "id": "QkHF6GtfSmQu",
        "outputId": "983f5b4a-a2f8-49ad-fc98-9e5eae261f8b"
      },
      "source": [
        "# Task 4\n",
        "\n",
        "#subtask 1\n",
        "class Joker :\n",
        "  def __init__(self,name,power,mental) :\n",
        "    self.name = name\n",
        "    self.power = power\n",
        "    self.is_he_psycho = mental\n",
        "\n",
        "#Write your class code here\n",
        "j1 = Joker('Heath Ledger', 'Mind Game', False)\n",
        "print(j1.name)\n",
        "print(j1.power)\n",
        "print(j1.is_he_psycho)\n",
        "print('=====================')\n",
        "j2 = Joker('Joaquin Phoenix', 'Laughing out Loud', True)\n",
        "print(j2.name)\n",
        "print(j2.power)\n",
        "print(j2.is_he_psycho)\n",
        "print('=====================')\n",
        "\n",
        "if j1 == j2:\n",
        "  print('same')\n",
        "else:\n",
        "  print('different')\n",
        "\n",
        "j2.name = 'Heath Ledger'\n",
        "\n",
        "if j1.name == j2.name:\n",
        "  print('same')\n",
        "else:\n",
        "  print('different')\n",
        "\n",
        "#Write your code for 2,3 here\n",
        "\n",
        "print(\"=====================\")\n",
        "\n",
        "#subtask 2\n",
        "print(\"The first if/else block prints the output as ‘different’ because ji and j2 are different objects which makes their storing location different\")\n",
        "\n",
        "#subtask 3\n",
        "print(\"The second if/else block prints the output as ‘same’ because the name of j2 has been updated and it has been made similar to j1. As a result, their name becomes same and it prints same.\")"
      ],
      "execution_count": 5,
      "outputs": [
        {
          "output_type": "stream",
          "name": "stdout",
          "text": [
            "Heath Ledger\n",
            "Mind Game\n",
            "False\n",
            "=====================\n",
            "Joaquin Phoenix\n",
            "Laughing out Loud\n",
            "True\n",
            "=====================\n",
            "different\n",
            "same\n",
            "=====================\n",
            "The first if/else block prints the output as ‘different’ because ji and j2 are different objects which makes their storing location different\n",
            "The second if/else block prints the output as ‘same’ because the name of j2 has been updated and it has been made similar to j1. As a result, their name becomes same and it prints same.\n"
          ]
        }
      ]
    },
    {
      "cell_type": "code",
      "metadata": {
        "id": "_Zig1JeaTgzB",
        "colab": {
          "base_uri": "https://localhost:8080/"
        },
        "outputId": "f635a9a0-f947-43c2-f246-1fc173592bc3"
      },
      "source": [
        "# Task 5 :\n",
        "\n",
        "class Pokemon :\n",
        "  def __init__(self,name1,name2,p1,p2,rate) :\n",
        "    self.pokemon1_name = name1\n",
        "    self.pokemon2_name = name2\n",
        "    self.pokemon1_power = p1\n",
        "    self.pokemon2_power = p2\n",
        "    self.damage_rate = rate\n",
        "\n",
        "#Write your code for class here\n",
        "team_pika = Pokemon('pikachu', 'charmander', 90, 60, 10)\n",
        "print('=======Team 1=======')\n",
        "print('Pokemon 1:',team_pika.pokemon1_name,team_pika.pokemon1_power)\n",
        "print('Pokemon 2:',team_pika.pokemon2_name,team_pika.pokemon2_power)\n",
        "pika_combined_power = (team_pika.pokemon1_power + team_pika.pokemon2_power) * team_pika.damage_rate\n",
        "print('Combined Power:', pika_combined_power)\n",
        "#Write your code for subtask 2,3,4 here\n",
        "\n",
        "#subtask 2 & 3\n",
        "\n",
        "print('=======Team 2=======')\n",
        "team_bulb = Pokemon('bulbasaur', 'squirtle', 80, 70, 9)\n",
        "print('Pokemon 1:',team_bulb.pokemon1_name,team_bulb.pokemon1_power)\n",
        "print('Pokemon 2:',team_bulb.pokemon2_name,team_bulb.pokemon2_power)\n",
        "bulb_combined_power = (team_bulb.pokemon1_power + team_bulb.pokemon2_power) * team_bulb.damage_rate\n",
        "print('Combined Power:', bulb_combined_power)"
      ],
      "execution_count": 6,
      "outputs": [
        {
          "output_type": "stream",
          "name": "stdout",
          "text": [
            "=======Team 1=======\n",
            "Pokemon 1: pikachu 90\n",
            "Pokemon 2: charmander 60\n",
            "Combined Power: 1500\n",
            "=======Team 2=======\n",
            "Pokemon 1: bulbasaur 80\n",
            "Pokemon 2: squirtle 70\n",
            "Combined Power: 1350\n"
          ]
        }
      ]
    },
    {
      "cell_type": "code",
      "metadata": {
        "colab": {
          "base_uri": "https://localhost:8080/"
        },
        "id": "8mKPKUTvVmXA",
        "outputId": "fcbe4389-bd35-4f22-a882-4b03f45bb7fd"
      },
      "source": [
        "# Task 6\n",
        "\n",
        "class Player :\n",
        "  def __init__(self) :\n",
        "    self.name = \"\"\n",
        "    self.jersy_number = 0\n",
        "    self.position = \"\"\n",
        "\n",
        "# Write Your Class Code Here\n",
        "player1 = Player()\n",
        "player1.name = \"Ronaldo\"\n",
        "player1.jersy_number = 9\n",
        "player1.position = \"Striker\"\n",
        "print(\"Name of the Player:\", player1.name)\n",
        "print(\"Jersey Number of player:\", player1.jersy_number)\n",
        "print(\"Position of player:\", player1.position)\n",
        "print('===========================')\n",
        "player2 = Player()\n",
        "player2.name = \"Neuer\"\n",
        "player2.jersy_number = 1\n",
        "player2.position = \"Goal Keeper\"\n",
        "print(\"Name of the player:\", player2.name)\n",
        "print(\"Jersey Number of player:\", player2.jersy_number)\n",
        "print(\"Position of player:\", player2.position)"
      ],
      "execution_count": 7,
      "outputs": [
        {
          "output_type": "stream",
          "name": "stdout",
          "text": [
            "Name of the Player: Ronaldo\n",
            "Jersey Number of player: 9\n",
            "Position of player: Striker\n",
            "===========================\n",
            "Name of the player: Neuer\n",
            "Jersey Number of player: 1\n",
            "Position of player: Goal Keeper\n"
          ]
        }
      ]
    },
    {
      "cell_type": "code",
      "metadata": {
        "colab": {
          "base_uri": "https://localhost:8080/"
        },
        "id": "UMBBn82YXPYm",
        "outputId": "1daaf703-2a68-4b76-e948-754a05ef6efd"
      },
      "source": [
        "# Task 7\n",
        "\n",
        "class Country :\n",
        "  def __init__(self) :\n",
        "    self.name = \"Bangladesh\"\n",
        "    self.continent = \"Asia\"\n",
        "    self.capital = \"Dhaka\"\n",
        "    self.fifa_ranking = 187\n",
        "\n",
        "# Write your Class Code here\n",
        "country = Country()\n",
        "print('Name:',country.name)\n",
        "print('Continent:',country.continent)\n",
        "print('Capital:',country.capital)\n",
        "print('Fifa Ranking:',country.fifa_ranking)\n",
        "print('===================')\n",
        "country.name = 'Belgium'\n",
        "country.continent = 'Europe'\n",
        "country.capital = 'Brussels'\n",
        "country.fifa_ranking = 1\n",
        "print('Name:',country.name)\n",
        "print('Continent:',country.continent)\n",
        "print('Capital:',country.capital)\n",
        "print('Fifa Ranking:',country.fifa_ranking)"
      ],
      "execution_count": 8,
      "outputs": [
        {
          "output_type": "stream",
          "name": "stdout",
          "text": [
            "Name: Bangladesh\n",
            "Continent: Asia\n",
            "Capital: Dhaka\n",
            "Fifa Ranking: 187\n",
            "===================\n",
            "Name: Belgium\n",
            "Continent: Europe\n",
            "Capital: Brussels\n",
            "Fifa Ranking: 1\n"
          ]
        }
      ]
    },
    {
      "cell_type": "code",
      "metadata": {
        "id": "gcYYr2ltZuL_",
        "colab": {
          "base_uri": "https://localhost:8080/"
        },
        "outputId": "0f1665bb-b038-4b5b-b110-9a272a05c376"
      },
      "source": [
        "# Task 8\n",
        "\n",
        "class DemonSlayer :\n",
        "  def __init__(self,name,style,technique,kill) :\n",
        "    self.name = name\n",
        "    self.style = style\n",
        "    self.number_of_technique = technique\n",
        "    self.kill = kill\n",
        "\n",
        "# Write your Class Code here\n",
        "tanjiro = DemonSlayer(\"Tanjiro\", \"Water Breathing\", 10, 10)\n",
        "print('Name:',tanjiro.name)\n",
        "print('Fighting Style:',tanjiro.style)\n",
        "print(f'Knows {tanjiro.number_of_technique} technique(s) and has killed {tanjiro.kill} demon(s)')\n",
        "print('===================')\n",
        "zenitsu = DemonSlayer(\"Zenitsu\", \"Thunder Breathing\", 1, 4)\n",
        "print('Name:',zenitsu.name)\n",
        "print('Fighting Style:',zenitsu.style)\n",
        "print(f'Knows {zenitsu.number_of_technique} technique(s) and has killed {zenitsu.kill} demon(s)')\n",
        "print('===================')\n",
        "inosuke = DemonSlayer(\"Inosuke\", \"Beast Breathing\", 5, 7)\n",
        "print('Name:',inosuke.name)\n",
        "print('Fighting Style:',inosuke.style)\n",
        "print(f'Knows {inosuke.number_of_technique} technique(s) and has killed {inosuke.kill} demon(s)')\n",
        "print('===================')\n",
        "print(f'{tanjiro.name}, {zenitsu.name}, {inosuke.name} knows total {tanjiro.number_of_technique + zenitsu.number_of_technique + inosuke.number_of_technique} techniques')\n",
        "print(f'They have killed total {tanjiro.kill + zenitsu.kill + inosuke.kill} demons')"
      ],
      "execution_count": 9,
      "outputs": [
        {
          "output_type": "stream",
          "name": "stdout",
          "text": [
            "Name: Tanjiro\n",
            "Fighting Style: Water Breathing\n",
            "Knows 10 technique(s) and has killed 10 demon(s)\n",
            "===================\n",
            "Name: Zenitsu\n",
            "Fighting Style: Thunder Breathing\n",
            "Knows 1 technique(s) and has killed 4 demon(s)\n",
            "===================\n",
            "Name: Inosuke\n",
            "Fighting Style: Beast Breathing\n",
            "Knows 5 technique(s) and has killed 7 demon(s)\n",
            "===================\n",
            "Tanjiro, Zenitsu, Inosuke knows total 16 techniques\n",
            "They have killed total 21 demons\n"
          ]
        }
      ]
    },
    {
      "cell_type": "code",
      "metadata": {
        "colab": {
          "base_uri": "https://localhost:8080/"
        },
        "id": "gLUbgCAOaNpD",
        "outputId": "f67e5b5d-b814-498c-f8a0-47bb8ce9c5f2"
      },
      "source": [
        "# Task 9\n",
        "\n",
        "class box :\n",
        "  def __init__(self,values) :\n",
        "    h = values[0]\n",
        "    w = values[1]\n",
        "    b = values[2]\n",
        "    self.height = h\n",
        "    self.width = w\n",
        "    self.breadth = b\n",
        "    print(\"Creating a Box!\")\n",
        "    print(\"Volume of the box is\", h*w*b, \"cubic units.\")\n",
        "\n",
        "#Write your class code here\n",
        "print(\"Box 1\")\n",
        "b1 = box([10,10,10])\n",
        "print(\"=========================\")\n",
        "print(\"Height:\", b1.height)\n",
        "print(\"Width:\", b1.width)\n",
        "print(\"Breadth:\", b1.breadth)\n",
        "print(\"-------------------------\")\n",
        "print(\"Box 2\")\n",
        "b2 = box((30,10,10))\n",
        "print(\"=========================\")\n",
        "print(\"Height:\", b2.height)\n",
        "print(\"Width:\", b2.width)\n",
        "print(\"Breadth:\", b2.breadth)\n",
        "b2.height = 300\n",
        "print(\"Updating Box 2!\")\n",
        "print(\"Height:\", b2.height)\n",
        "print(\"Width:\", b2.width)\n",
        "print(\"Breadth:\", b2.breadth)\n",
        "print(\"-------------------------\")\n",
        "print(\"Box 3\")\n",
        "b3 = b2\n",
        "print(\"Height:\", b3.height)\n",
        "print(\"Width:\", b3.width)\n",
        "print(\"Breadth:\", b3.breadth)"
      ],
      "execution_count": 13,
      "outputs": [
        {
          "output_type": "stream",
          "name": "stdout",
          "text": [
            "Box 1\n",
            "Creating a Box!\n",
            "Volume of the box is 1000 cubic units.\n",
            "=========================\n",
            "Height: 10\n",
            "Width: 10\n",
            "Breadth: 10\n",
            "-------------------------\n",
            "Box 2\n",
            "Creating a Box!\n",
            "Volume of the box is 3000 cubic units.\n",
            "=========================\n",
            "Height: 30\n",
            "Width: 10\n",
            "Breadth: 10\n",
            "Updating Box 2!\n",
            "Height: 300\n",
            "Width: 10\n",
            "Breadth: 10\n",
            "-------------------------\n",
            "Box 3\n",
            "Height: 300\n",
            "Width: 10\n",
            "Breadth: 10\n"
          ]
        }
      ]
    },
    {
      "cell_type": "code",
      "metadata": {
        "id": "xcXy_iO-a1VU",
        "colab": {
          "base_uri": "https://localhost:8080/"
        },
        "outputId": "6abfc198-e88b-47db-fcf3-143b1d2d7c2e"
      },
      "source": [
        "# Task 10\n",
        "\n",
        "class buttons :\n",
        "  def __init__(self,word,spaces,border) :\n",
        "    self.word = word\n",
        "    self.spaces = spaces\n",
        "    self.border = border\n",
        "    print(word, \"Button Specifications:\")\n",
        "    print(\"Button name:\", word)\n",
        "    print(\"Number of the border characters for the top and the bottom:\", 1+len(word)+spaces*2+1)\n",
        "    print(\"Number of spaces between the left side border and the first character of the button name:\", spaces)\n",
        "    print(\"Number of spaces between the right side border and the last character of the button name:\", spaces)\n",
        "    print(\"Characters representing the borders:\", border)\n",
        "    print(border * (1+len(word)+spaces*2+1))\n",
        "    print(border + (\" \" * spaces) + word + (\" \" * spaces) + border)\n",
        "    print(border * (1+len(word)+spaces*2+1))\n",
        "\n",
        "#Write your class code here\n",
        "word = \"CANCEL\"\n",
        "spaces = 10\n",
        "border = 'x'\n",
        "b1 = buttons(word, spaces, border)\n",
        "print(\"=======================================================\")\n",
        "b2 = buttons(\"Notify\",3, '!')\n",
        "print(\"=======================================================\")\n",
        "b3 = buttons('SAVE PROGRESS', 5, '$')"
      ],
      "execution_count": 11,
      "outputs": [
        {
          "output_type": "stream",
          "name": "stdout",
          "text": [
            "CANCEL Button Specifications:\n",
            "Button name: CANCEL\n",
            "Number of the border characters for the top and the bottom: 28\n",
            "Number of spaces between the left side border and the first character of the button name: 10\n",
            "Number of spaces between the right side border and the last character of the button name: 10\n",
            "Characters representing the borders: x\n",
            "xxxxxxxxxxxxxxxxxxxxxxxxxxxx\n",
            "x          CANCEL          x\n",
            "xxxxxxxxxxxxxxxxxxxxxxxxxxxx\n",
            "=======================================================\n",
            "Notify Button Specifications:\n",
            "Button name: Notify\n",
            "Number of the border characters for the top and the bottom: 14\n",
            "Number of spaces between the left side border and the first character of the button name: 3\n",
            "Number of spaces between the right side border and the last character of the button name: 3\n",
            "Characters representing the borders: !\n",
            "!!!!!!!!!!!!!!\n",
            "!   Notify   !\n",
            "!!!!!!!!!!!!!!\n",
            "=======================================================\n",
            "SAVE PROGRESS Button Specifications:\n",
            "Button name: SAVE PROGRESS\n",
            "Number of the border characters for the top and the bottom: 25\n",
            "Number of spaces between the left side border and the first character of the button name: 5\n",
            "Number of spaces between the right side border and the last character of the button name: 5\n",
            "Characters representing the borders: $\n",
            "$$$$$$$$$$$$$$$$$$$$$$$$$\n",
            "$     SAVE PROGRESS     $\n",
            "$$$$$$$$$$$$$$$$$$$$$$$$$\n"
          ]
        }
      ]
    }
  ]
}