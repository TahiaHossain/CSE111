{
  "nbformat": 4,
  "nbformat_minor": 0,
  "metadata": {
    "colab": {
      "name": "CSE111 Questions.ipynb",
      "provenance": [],
      "collapsed_sections": []
    },
    "kernelspec": {
      "name": "python3",
      "display_name": "Python 3"
    },
    "language_info": {
      "name": "python"
    }
  },
  "cells": [
    {
      "cell_type": "markdown",
      "metadata": {
        "id": "-JhqIVb8hPCq"
      },
      "source": [
        "**Quiz-1 questions**"
      ]
    },
    {
      "cell_type": "markdown",
      "metadata": {
        "id": "69pZa3rcZ7bG"
      },
      "source": [
        "\n",
        "**Task-1**\n",
        "\n",
        "\n",
        "Suppose you have a list of integers. Your task is to create a dictionary \n",
        "which will have the index of the list as key and summation from start to \n",
        "that index as value. User will give a range and if you have to print the \n",
        "summation of the list from the start and ending index of the range using \n",
        "the created dictionary.\n",
        "\n",
        "     List = [3,1,5,4,6,7,8]\n",
        "     Dictionary should be dict = {0:3, 1:4, 2:9,3:13, 4:19, 5:26, 6:32}\n",
        "Sample Input:\n",
        "\n",
        "3,1,5,4,6,7,8\n",
        "\n",
        "2 4\n",
        "\n",
        "Sample Output:\n",
        "\n",
        "{0:3, 1:4, 2:9, 3:13, 4:19, 5:26, 6:32}\n",
        "\n",
        "15\n",
        "\n",
        "Hint: If you want to get the summation from index 2 to 4, just subtract the \n",
        "dict[1] from   dict[4] and you will get the required answer\n",
        "\n"
      ]
    },
    {
      "cell_type": "code",
      "metadata": {
        "id": "sgw1fTFCbkk-"
      },
      "source": [
        ""
      ],
      "execution_count": null,
      "outputs": []
    },
    {
      "cell_type": "markdown",
      "metadata": {
        "id": "6rbsTl0_axlY"
      },
      "source": [
        "**Task-2**\n",
        "\n",
        "Write a python program that will take N as input from the user and then \n",
        "take N lines of input from the user. Each line will contain a tennis player \n",
        "name, year and tournament name that he won that year. Store each player's \n",
        "championship information in a dictionary where the key will be the player \n",
        "name and corresponding value will be a list containing all the tournaments \n",
        "the player won along with the year of the tournament.\n",
        "\n",
        "\n",
        "Sample Input 1:\n",
        "\n",
        "6\n",
        "\n",
        "2021 AustralianOpen Djokovic\n",
        "\n",
        "2021 FrenchOpen Djokovic\n",
        "\n",
        "2020 FrenchOpen Nadal\n",
        "\n",
        "2020 USOpen Dominic\n",
        "\n",
        "2020 AustralianOpen Djokovic\n",
        "\n",
        "2019 USOpen Nadal\n",
        "\n",
        "Sample Output 1 (No need to follow this output format. Just print the \n",
        "resultant dictionary. )\n",
        "\n",
        "{\n",
        "'Djokovic':\n",
        "{\n",
        "2021:['AustralianOpen','FrenchOpen'],\n",
        "2020:['AustralianOpen']\n",
        "},\n",
        "'Nadal':\n",
        "{\n",
        "2020:['FrenchOpen'],\n",
        "2019: ['USOpen']\n",
        "},\n",
        "'Dominic':\n",
        "{\n",
        "2020:['USOpen']\n",
        "}\n",
        "}\n",
        "\n",
        "\n",
        "\n",
        "\n"
      ]
    },
    {
      "cell_type": "markdown",
      "metadata": {
        "id": "Qj2S594ghI4b"
      },
      "source": [
        ""
      ]
    },
    {
      "cell_type": "code",
      "metadata": {
        "id": "9y4ciqLwKknM"
      },
      "source": [
        ""
      ],
      "execution_count": null,
      "outputs": []
    },
    {
      "cell_type": "markdown",
      "metadata": {
        "id": "4TY0w6OEboPp"
      },
      "source": [
        "**Task-3**\n",
        "\n",
        "Write a program that will take Student names and their marks in different \n",
        "courses as input. Your task is to calculate the GPA of the students from \n",
        "course marks and create a dictionary that will contain the student names \n",
        "given as input as Key and their GPA as the corresponding value. At the end \n",
        "of the program print the dictionary that you created. For simplicity you \n",
        "can consider all the courses are 3.0 credit hours long. The program will \n",
        "continue to take inputs unless “STOP” is given as input.\n",
        "\n",
        "Grading policy is as follows:\n",
        "\n",
        "Marks >=90,  Grade: 4.0\n",
        "\n",
        "90> Marks>=85,  Grade point:  3.7\n",
        "\n",
        "85>Marks>=80,  Grade point:  3.3\n",
        "\n",
        "80>Marks>=75,  Grade point:  3.0\n",
        "\n",
        "75>Marks>=70,  Grade point:  2.7\n",
        "\n",
        "70>Marks>=65,  Grade point:  2.3\n",
        "\n",
        "65>Marks>=60,  Grade point:  2.0\n",
        "\n",
        "60>Marks>=57,  Grade point:  1.7\n",
        "\n",
        "57>Marks>=55,  Grade point:  1.3\n",
        "\n",
        "55>Marks>=52,  Grade point:  1.0\n",
        "\n",
        "52>Marks>=50,  Grade point:  0.7\n",
        "\n",
        "Marks<50,  Grade point:  0.0\n",
        "\n",
        "And the formula to calculate GPA is:\n",
        "        GPA = sum(Each course grade point * credit of each course) / (Total \n",
        "credits attended)\n",
        "\n",
        "Sample Input:\n",
        "\n",
        "Adam 83 95 67 72      \n",
        "[Explanation: gpa = \n",
        "(3.3*3.0+4.0*3.0+2.3*3.0+2.7*3.0)/12.0 = 3.075 ≈ 3.08]\n",
        "\n",
        "John 40 55 81 76\n",
        "\n",
        "Alice 65 96 92\n",
        "\n",
        "STOP\n",
        "\n",
        "Sample Output:\n",
        "{'Adam': 3.08, 'John': 1.9, 'Alice': 3.43}\n"
      ]
    },
    {
      "cell_type": "code",
      "metadata": {
        "id": "O69fTgHFcT3w"
      },
      "source": [
        ""
      ],
      "execution_count": null,
      "outputs": []
    },
    {
      "cell_type": "markdown",
      "metadata": {
        "id": "wqGX91jhcahs"
      },
      "source": [
        "**Task-4**\n",
        "\n",
        "Suppose you are given a list of contacts as input in single line. Your task \n",
        "is to create a “Phonebook” out of those contacts based on their telecom \n",
        "operator. The phonebook is nothing but a nested dictionary which is made of \n",
        "1 rule:\n",
        "\n",
        "1.You have to save each contact based on their telecom operator. If there \n",
        "is no contact of a specific telecom operator, that operator should not be \n",
        "shown in the phone book. If a contact number,\n",
        "Starts with ‘017’ or ‘013’ then the telecom operator is Grameenphone\n",
        "Starts with ‘018’ then the telecom operator is Robi\n",
        "Starts with ‘016’ then the telecom operator is Airtel\n",
        "Starts with anything else then the telecom operator is Others\n",
        "While printing the phonebook as output the contacts under each telecom \n",
        "operator should be shown in alphabetically sorted order based on the \n",
        "contact names. See the sample output for clarification.\n",
        "\n",
        "Sample Input:\n",
        "\n",
        "Bob 01632342392 Alice 01346734123 Britney 01803544535 Aeron 01723454642 \n",
        "Smith 01923457890 Tarek 01866392233\n",
        "\n",
        "Sample Output:(No need to follow this output format. Just print the \n",
        "resultant sorted dictionary. )\n",
        "\n",
        "{\n",
        "Airtel:\n",
        "{\n",
        "Bob:01632342392\n",
        "}\n",
        "Grameenphone:\n",
        "{\n",
        "Aeron:01723454642\n",
        "Alice:01346734123\n",
        "}\n",
        "Robi:\n",
        "{\n",
        "Britney:01803544535\n",
        "Tarek:01866392233\n",
        "}\n",
        "Others:\n",
        "{\n",
        "Smith:01923457890\n",
        "}\n",
        "}\n"
      ]
    },
    {
      "cell_type": "code",
      "metadata": {
        "id": "uUfIYkykdBro"
      },
      "source": [
        ""
      ],
      "execution_count": null,
      "outputs": []
    },
    {
      "cell_type": "markdown",
      "metadata": {
        "id": "qxReCVzld3NE"
      },
      "source": [
        "**Task-5**\n",
        "\n",
        "Write a python program that will make a dictionary from the given list of \n",
        "Student IDs based on the department and admitted year.\n",
        "ID explanation:\n",
        "\n",
        "First 2 digits: Year\n",
        "\n",
        "4th and 5th digit: Department\n",
        "01 = CSE, 41=CS, 21=EEE, Any other digits = Other\n",
        "\n",
        "For example, ID: 21121347, in this ID, the first 2 digits are 21. So the \n",
        "year is 2021.\n",
        "\n",
        "The 4th and 5th digit are 21. So the department in EEE.\n",
        "\n",
        "Given List [Your code should work for all types of similar IDs if the given \n",
        "List is changed.]:\n",
        "\n",
        "IDs = \n",
        "\n",
        "['20201199','21121347','20141052','20341121','21241369','21272199','19241187','19101007','20101035', '21121875', '19141534', '19301552', '21141135', '21365001']\n",
        "\n",
        "\n",
        "Sample Output (You have to print the resultant dictionary only)\n",
        "\n",
        "\n",
        "{\n",
        "     2020:{\n",
        "              'CSE': ['20201199', '20101035'],\n",
        "              'CS': ['20141052', '20341121']\n",
        "              },\n",
        "     2021:{\n",
        "              'EEE': ['21121347', '21121875'],\n",
        "              'CS': ['21241369', '21141135'],\n",
        "              'Other': ['21272199', '21365001']\n",
        "              },\n",
        "     2019:{\n",
        "              'CS': ['19241187', '19141534'],\n",
        "              'CSE': ['19101007', '19301552']\n",
        "             }\n",
        "}\n"
      ]
    },
    {
      "cell_type": "code",
      "metadata": {
        "id": "lopjyjDlevg_"
      },
      "source": [
        ""
      ],
      "execution_count": null,
      "outputs": []
    },
    {
      "cell_type": "markdown",
      "metadata": {
        "id": "OssZ0gKbaVuh"
      },
      "source": [
        "**Summer'21 Quiz 02 Questions:** "
      ]
    },
    {
      "cell_type": "markdown",
      "metadata": {
        "id": "f8MpMTMHZXJ_"
      },
      "source": [
        "**Task-1**\n",
        "\n",
        "Write the Hotel class with the required methods to give the following \n",
        "outputs as shown.\n",
        "\n",
        "# #Write your codes here.\n",
        "\n",
        "# Do not change the following lines of code.\n",
        "h = Hotel(\"Lakeshore\")\n",
        "\n",
        "print(\"=================================\")\n",
        "\n",
        "h.addStuff( 125501,\"Adam\", 26)\n",
        "\n",
        "print(\"=================================\")\n",
        "\n",
        "print(h.printAllStuffs())\n",
        "\n",
        "print(\"=================================\")\n",
        "\n",
        "h.addStuff(125502,”Bob”,32,5678)\n",
        "\n",
        "print(\"=================================\")\n",
        "\n",
        "print(h.printAllStuffs())\n",
        "\n",
        "print(\"=================================\")\n",
        "\n",
        "h.addGuest(“Carol”,35,”123”)\n",
        "\n",
        "print(\"=================================\")\n",
        "\n",
        "print(h.printAllGuest())\n",
        "\n",
        "print(\"=================================\")\n",
        "\n",
        "h.addGuest(\"Diana, 32, “431”,226602)\n",
        "\n",
        "print(\"=================================\")\n",
        "\n",
        "print(h.printAllGuest())\n",
        "\n",
        "\n",
        "#### **OUTPUT**:\n",
        "=================================\n",
        "\n",
        "Staff With ID 125501 is added\n",
        "\n",
        "All Staffs:\n",
        "Number of Staff:  1\n",
        "#### Staff ID: 125501 Name: Adam Age: 26 Phone no: 000\n",
        "=================================\n",
        "#### Staff With ID 125502 is added\n",
        "=================================\n",
        "\n",
        "All Staffs:\n",
        "Number of Staff:  2\n",
        "#### Staff ID: 125501 Name: Adam Age: 26 Phone no: 000\n",
        "#### Staff ID: 125502 Name: Bob Age: 32 Phone no: 5678\n",
        "=================================\n",
        "####Guest With ID 226601 is added\n",
        "=================================\n",
        "\n",
        "All Guests:\n",
        "Number of Guest:  1\n",
        "####Guest  ID: 226601 Name: Carol Age: 35 Phone no: 123\n",
        "=================================\n",
        "#### Guest With ID 220602 is added\n",
        "=================================\n",
        "\n",
        "All Guests:\n",
        "\n",
        "Number of Guest:  2\n",
        "\n",
        "Guest  ID: 226601 Name: Carol Age: 35 Phone no: 123\n",
        "\n",
        "Guest  ID: 226602 Name: Dianal Age: 32 Phone no: 431\n",
        "\n"
      ]
    },
    {
      "cell_type": "code",
      "metadata": {
        "id": "gMfu0TsGaz5W"
      },
      "source": [
        ""
      ],
      "execution_count": null,
      "outputs": []
    },
    {
      "cell_type": "markdown",
      "metadata": {
        "id": "rVVHRfyea0K1"
      },
      "source": [
        "**Task-02**\n",
        "\n",
        "Write the Author class with the required methods to give the following  \n",
        "outputs as shown.\n",
        "\n",
        "# #Write your codes here.\n",
        "\n",
        "# Do not change the following lines of code.\n",
        "a1 = Author()\n",
        "\n",
        "print(\"=================================\")\n",
        "\n",
        "a1.addBook(“Ice”, “Science Fiction”)\n",
        "\n",
        "print(\"=================================\")\n",
        "\n",
        "a1.setName(“Anna Kavan”)\n",
        "\n",
        "a1.addBook(“Ice”, “Science Fiction”)\n",
        "\n",
        "a1.printDetail()\n",
        "\n",
        "print(\"=================================\")\n",
        "\n",
        "a2 = Author(“Humayun Ahmed”)\n",
        "\n",
        "a2.addBook(“Onnobhubon”, “Science Fiction”)\n",
        "\n",
        "a2.addBook(“Megher Upor Bari”, “Horror”)\n",
        "\n",
        "print(=================================\")\n",
        "\n",
        "a2.printDetail()\n",
        "\n",
        "a2.addBook(“Ireena”, “Science Fiction”)\n",
        "\n",
        "print(\"=================================\")\n",
        "\n",
        "a2.printDetail()\n",
        "\n",
        "print(\"=================================\")\n",
        "\n",
        "\n",
        "####**Ouput:**\n",
        "=================================\n",
        "#### A book can not be added without author name\n",
        "=================================\n",
        "\n",
        "Number of Book(s): 1\n",
        "\n",
        "Author Name: Anna Kavan\n",
        "\n",
        "#### Science Fiction: Ice\n",
        "\n",
        "=================================\n",
        "\n",
        "Number of Book(s): 2\n",
        "\n",
        "Author Name: Humayun Ahmed\n",
        "\n",
        "Science Fiction: Onnobhubon\n",
        "\n",
        "#### Horror: Megher Upor Bari\n",
        "=================================\n",
        "\n",
        "Number of Book(s): 3\n",
        "\n",
        "Author Name: Humayun Ahmed\n",
        "\n",
        "Science Fiction: Onnobhubon, Ireena\n",
        "\n",
        "Horror: Megher Upor Bari\n",
        "\n",
        "================================"
      ]
    },
    {
      "cell_type": "code",
      "metadata": {
        "id": "ylm67XG4cvQa"
      },
      "source": [
        ""
      ],
      "execution_count": null,
      "outputs": []
    }
  ]
}